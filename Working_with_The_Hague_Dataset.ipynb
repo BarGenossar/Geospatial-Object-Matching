{
 "cells": [
  {
   "cell_type": "markdown",
   "source": [
    "### 📘 Working with the *The Hague* Dataset\n",
    "\n",
    "This notebook guides you through setting up and customizing *The Hague* benchmark dataset for geospatial object matching.\n"
   ],
   "metadata": {
    "collapsed": false
   },
   "id": "ecf631f914793f90"
  },
  {
   "cell_type": "markdown",
   "source": [
    "#### ✅ Step 1: Download the dataset\n",
    "\n",
    "Go to the [Download dataset](https://tinyurl.com/3dSAGERdataset) link and download the following:\n",
    "\n",
    "- `dataset_partitions/` (download all files)\n",
    "- `RawCitiesData/`\n",
    "\n",
    "Place both folders under your local `data/` directory. After this step, you're ready to run experiments using the standard configurations provided in the repository.\n"
   ],
   "metadata": {
    "collapsed": false
   },
   "id": "6e70c74e7d2408cd"
  },
  {
   "cell_type": "markdown",
   "source": [
    "#### 🔁 Step 2: Optional — Add more data to Source B\n",
    "\n",
    "If you'd like to expand **Source B**, you can download additional 3D tiles from the [3DBAG download portal](https://3dbag.nl/en/download). Place any new under the `RawCitiesData/source_B/` directory.\n",
    "\n",
    "> 🛈 **Note:** Simply adding files will not trigger them to be used — you must regenerate the dataset partitions if you want them included.\n"
   ],
   "metadata": {
    "collapsed": false
   },
   "id": "46f84f009a6993d0"
  },
  {
   "cell_type": "markdown",
   "source": [
    "### 🧩 Regenerating Partitions After Adding Tiles\n",
    "\n",
    "If you added new tiles to Source B, follow these steps to regenerate the benchmark:\n"
   ],
   "metadata": {
    "collapsed": false
   },
   "id": "11ab2c26b1393897"
  },
  {
   "cell_type": "markdown",
   "source": [
    "#### 1. Create baseline partitions from `data_partition.py`:\n",
    "\n",
    "```python\n",
    "blocking_based_mode = False\n"
   ],
   "metadata": {
    "collapsed": false
   },
   "id": "d330b4341fc13d32"
  },
  {
   "cell_type": "markdown",
   "source": [
    "\n",
    "---\n",
    "\n",
    "**Markdown Cell 6:**\n",
    "```markdown\n",
    "#### 2. Run `main.py` with:\n",
    "\n",
    "- `evaluation_mode = \"blocking\"`\n",
    "- `matching_cands_generation = \"negative_sampling\"`\n",
    "\n",
    "Repeat the process for both `'small'` and `'large'` datasets.\n"
   ],
   "metadata": {
    "collapsed": false
   },
   "id": "7c7bbaab33a93141"
  },
  {
   "cell_type": "markdown",
   "source": [
    "\n",
    "---\n",
    "\n",
    "**Markdown Cell 6:**\n",
    "```markdown\n",
    "#### 2. Run `main.py` with:\n",
    "\n",
    "- `evaluation_mode = \"blocking\"`\n",
    "- `matching_cands_generation = \"negative_sampling\"`\n",
    "\n",
    "Repeat the process for both `'small'` and `'large'` datasets.\n"
   ],
   "metadata": {
    "collapsed": false
   },
   "id": "5fd2eceb65657fab"
  },
  {
   "cell_type": "markdown",
   "source": [
    "#### 3. Then, regenerate partitions with:\n",
    "\n",
    "```python\n",
    "blocking_based_mode = True\n"
   ],
   "metadata": {
    "collapsed": false
   },
   "id": "d69484b906ca5ba6"
  },
  {
   "cell_type": "code",
   "execution_count": null,
   "outputs": [],
   "source": [],
   "metadata": {
    "collapsed": false
   },
   "id": "9eff27f977e08aba"
  }
 ],
 "metadata": {
  "kernelspec": {
   "display_name": "Python 3",
   "language": "python",
   "name": "python3"
  },
  "language_info": {
   "codemirror_mode": {
    "name": "ipython",
    "version": 2
   },
   "file_extension": ".py",
   "mimetype": "text/x-python",
   "name": "python",
   "nbconvert_exporter": "python",
   "pygments_lexer": "ipython2",
   "version": "2.7.6"
  }
 },
 "nbformat": 4,
 "nbformat_minor": 5
}
