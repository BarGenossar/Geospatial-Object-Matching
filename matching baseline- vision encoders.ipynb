{
 "cells": [
  {
   "cell_type": "code",
   "execution_count": 1,
   "outputs": [],
   "source": [
    "import torch\n",
    "import clip\n",
    "from PIL import Image\n",
    "import torchvision.transforms as transforms\n",
    "import pickle as pkl\n",
    "import joblib\n",
    "import matplotlib.pyplot as plt\n",
    "from mpl_toolkits.mplot3d.art3d import Poly3DCollection\n",
    "import os\n",
    "import faiss\n",
    "import numpy as np\n",
    "import tqdm\n",
    "import torch\n",
    "import torch.nn as nn\n",
    "from torch.utils.data import Dataset, DataLoader\n"
   ],
   "metadata": {
    "collapsed": false,
    "ExecuteTime": {
     "end_time": "2025-03-27T09:41:20.223079100Z",
     "start_time": "2025-03-27T09:41:02.333939500Z"
    }
   },
   "id": "c4130ff386730824"
  },
  {
   "cell_type": "code",
   "execution_count": 2,
   "outputs": [],
   "source": [
    "device = \"cuda\" if torch.cuda.is_available() else \"cpu\""
   ],
   "metadata": {
    "collapsed": false,
    "ExecuteTime": {
     "end_time": "2025-03-27T09:41:20.225082200Z",
     "start_time": "2025-03-27T09:41:20.216337300Z"
    }
   },
   "id": "2fd56d043625ce83"
  },
  {
   "cell_type": "code",
   "execution_count": 3,
   "outputs": [
    {
     "data": {
      "text/plain": "'cuda'"
     },
     "execution_count": 3,
     "metadata": {},
     "output_type": "execute_result"
    }
   ],
   "source": [
    "device"
   ],
   "metadata": {
    "collapsed": false,
    "ExecuteTime": {
     "end_time": "2025-03-26T11:35:08.293672600Z",
     "start_time": "2025-03-26T11:35:08.282413900Z"
    }
   },
   "id": "20a4880562ddbc06"
  },
  {
   "cell_type": "code",
   "execution_count": 5,
   "outputs": [
    {
     "name": "stderr",
     "output_type": "stream",
     "text": [
      "100%|███████████████████████████████████████| 338M/338M [04:20<00:00, 1.36MiB/s]\n"
     ]
    }
   ],
   "source": [
    "model, preprocess = clip.load(\"ViT-B/32\", device=device)"
   ],
   "metadata": {
    "collapsed": false,
    "ExecuteTime": {
     "end_time": "2025-02-22T17:16:30.555459600Z",
     "start_time": "2025-02-22T17:12:05.459452900Z"
    }
   },
   "id": "2d2b8635a1fd8ec"
  },
  {
   "cell_type": "code",
   "execution_count": 33,
   "outputs": [],
   "source": [
    "model, preprocess = clip.load(\"ViT-L/14\", device=device)"
   ],
   "metadata": {
    "collapsed": false,
    "ExecuteTime": {
     "end_time": "2025-03-26T12:47:02.699196900Z",
     "start_time": "2025-03-26T12:46:51.648103100Z"
    }
   },
   "id": "e2db0f130e5c013a"
  },
  {
   "cell_type": "code",
   "execution_count": 3,
   "outputs": [],
   "source": [
    "source_a_path = \"data/RawCitiesData/The Hague/Source B/source_b_boundaries.pkl\"\n",
    "source_b_path = \"data/RawCitiesData/The Hague/Source A/source_a_boundaries.pkl\"\n",
    "object_dict_path = \"data/RawCitiesData/The Hague/object_dict.pkl\""
   ],
   "metadata": {
    "collapsed": false,
    "ExecuteTime": {
     "end_time": "2025-03-27T09:44:00.222623800Z",
     "start_time": "2025-03-27T09:44:00.163622400Z"
    }
   },
   "id": "3a09e48be3cbd40d"
  },
  {
   "cell_type": "code",
   "execution_count": 21,
   "outputs": [],
   "source": [
    "polygon_mesh_dict_a = joblib.load(source_a_path)"
   ],
   "metadata": {
    "collapsed": false,
    "ExecuteTime": {
     "end_time": "2025-02-22T17:27:43.975453700Z",
     "start_time": "2025-02-22T17:27:32.835286500Z"
    }
   },
   "id": "2635d7a808b90f87"
  },
  {
   "cell_type": "code",
   "execution_count": 22,
   "outputs": [],
   "source": [
    "polygon_mesh_dict_b = joblib.load(source_b_path)"
   ],
   "metadata": {
    "collapsed": false,
    "ExecuteTime": {
     "end_time": "2025-02-22T17:28:29.661635700Z",
     "start_time": "2025-02-22T17:27:45.971012300Z"
    }
   },
   "id": "7b3b5a75d60fc4a9"
  },
  {
   "cell_type": "code",
   "execution_count": 7,
   "outputs": [
    {
     "name": "stdout",
     "output_type": "stream",
     "text": [
      "dhedk\n",
      "check\n"
     ]
    }
   ],
   "source": [
    "a = 'check'\n",
    "print(a.replace('c', 'd'))\n",
    "print(a)"
   ],
   "metadata": {
    "collapsed": false,
    "ExecuteTime": {
     "end_time": "2025-03-01T16:15:12.249836200Z",
     "start_time": "2025-03-01T16:15:12.225699400Z"
    }
   },
   "id": "296d0514751ba313"
  },
  {
   "cell_type": "markdown",
   "source": [
    "# Generate Images"
   ],
   "metadata": {
    "collapsed": false
   },
   "id": "b512667a4bdca889"
  },
  {
   "cell_type": "code",
   "execution_count": 36,
   "outputs": [],
   "source": [
    "def find_min_coord(dim, polygon_mesh):\n",
    "    return min([vertex[dim] for surface in polygon_mesh for vertex in surface])\n",
    "\n",
    "def find_max_coord(dim, polygon_mesh):\n",
    "    return max([vertex[dim] for surface in polygon_mesh for vertex in surface])\n",
    "\n",
    "\n",
    "def plot_object(obj_id, polygon_mesh, save_dir, margin=3):\n",
    "    fig = plt.figure()\n",
    "    ax = fig.add_subplot(111, projection='3d')\n",
    "\n",
    "    # Add polygon mesh\n",
    "    for surface in polygon_mesh:\n",
    "        poly = Poly3DCollection([surface], alpha=0.5, edgecolor='k')\n",
    "        ax.add_collection3d(poly)\n",
    "\n",
    "    # Set limits\n",
    "    x_min = find_min_coord(0, polygon_mesh) - margin\n",
    "    y_min = find_min_coord(1, polygon_mesh) - margin\n",
    "    z_min = find_min_coord(2, polygon_mesh) - margin\n",
    "    x_max = find_max_coord(0, polygon_mesh) + margin\n",
    "    y_max = find_max_coord(1, polygon_mesh) + margin\n",
    "    z_max = find_max_coord(2, polygon_mesh) + margin\n",
    "\n",
    "    ax.set_xlim(x_min, x_max)\n",
    "    ax.set_ylim(y_min, y_max)\n",
    "    ax.set_zlim(z_min, z_max)\n",
    "\n",
    "    # Remove axes\n",
    "    ax.set_xticks([])\n",
    "    ax.set_yticks([])\n",
    "    ax.set_zticks([])\n",
    "    ax.set_xlabel('')\n",
    "    ax.set_ylabel('')\n",
    "    ax.set_zlabel('')\n",
    "    plt.savefig(os.path.join(save_dir, f'{obj_id}.png'), format='png', bbox_inches='tight', pad_inches=0, transparent=True)\n",
    "    # plt.show()\n",
    "    plt.close(fig)\n"
   ],
   "metadata": {
    "collapsed": false,
    "ExecuteTime": {
     "end_time": "2025-02-22T17:35:14.038933400Z",
     "start_time": "2025-02-22T17:35:14.003971300Z"
    }
   },
   "id": "ca2a262df1511d31"
  },
  {
   "cell_type": "code",
   "execution_count": 60,
   "outputs": [],
   "source": [],
   "metadata": {
    "collapsed": false,
    "ExecuteTime": {
     "end_time": "2025-02-22T18:19:42.752579300Z",
     "start_time": "2025-02-22T18:19:42.675646300Z"
    }
   },
   "id": "1735f0d5f661d4f2"
  },
  {
   "cell_type": "code",
   "execution_count": 43,
   "outputs": [
    {
     "name": "stdout",
     "output_type": "stream",
     "text": [
      "Intersection keys: 17887\n"
     ]
    }
   ],
   "source": [
    "\n",
    "source_a_keys = set(polygon_mesh_dict_a.keys())\n",
    "source_b_keys = set(polygon_mesh_dict_b.keys())\n",
    "intersection_keys = list(source_a_keys.intersection(source_b_keys))\n",
    "# print(f\"Source A keys: {len(source_a_keys)}\")\n",
    "# print(f\"Source B keys: {len(source_b_keys)}\")\n",
    "print(f\"Intersection keys: {len(intersection_keys)}\")"
   ],
   "metadata": {
    "collapsed": false,
    "ExecuteTime": {
     "end_time": "2025-02-22T17:37:18.494781300Z",
     "start_time": "2025-02-22T17:37:18.467938400Z"
    }
   },
   "id": "7c966bbe1b5f703a"
  },
  {
   "cell_type": "code",
   "execution_count": 111,
   "outputs": [
    {
     "name": "stderr",
     "output_type": "stream",
     "text": [
      "100%|██████████| 2000/2000 [03:11<00:00, 10.46it/s]\n",
      "100%|██████████| 200/200 [00:23<00:00,  8.64it/s]\n"
     ]
    }
   ],
   "source": [
    "# figs_source_a = 'data/RawCitiesData/The Hague/Source A/png_figs'\n",
    "# figs_source_b = 'data/RawCitiesData/The Hague/Source B/png_figs'\n",
    "# figs_num_a = 2000\n",
    "# figs_num_b = 200\n",
    "# for obj_id in tqdm.tqdm(intersection_keys[:figs_num_a]):\n",
    "#     plot_object(obj_id, polygon_mesh_dict_a[obj_id]['polygon_mesh'], figs_source_a)\n",
    "#     \n",
    "# for obj_id in tqdm.tqdm(intersection_keys[:figs_num_b]):\n",
    "#     plot_object(obj_id, polygon_mesh_dict_b[obj_id]['polygon_mesh'], figs_source_b)"
   ],
   "metadata": {
    "collapsed": false,
    "ExecuteTime": {
     "end_time": "2025-02-22T18:57:51.013423300Z",
     "start_time": "2025-02-22T18:54:16.581472400Z"
    }
   },
   "id": "5ada535aa7936443"
  },
  {
   "cell_type": "code",
   "execution_count": 1,
   "outputs": [
    {
     "name": "stdout",
     "output_type": "stream",
     "text": [
      "dict_keys([])\n"
     ]
    }
   ],
   "source": [
    "check = {}\n",
    "print(check.keys())"
   ],
   "metadata": {
    "collapsed": false,
    "ExecuteTime": {
     "end_time": "2025-03-01T15:18:57.173720700Z",
     "start_time": "2025-03-01T15:18:57.163667700Z"
    }
   },
   "id": "9f4ba2a5f09dd111"
  },
  {
   "cell_type": "code",
   "execution_count": null,
   "outputs": [],
   "source": [],
   "metadata": {
    "collapsed": false
   },
   "id": "d4340ba01665be77"
  },
  {
   "cell_type": "markdown",
   "source": [
    "# Read Data Partition"
   ],
   "metadata": {
    "collapsed": false
   },
   "id": "251444fcb35d9275"
  },
  {
   "cell_type": "code",
   "execution_count": 4,
   "outputs": [],
   "source": [
    "dataset_name = \"Hague\"\n",
    "dataset_partition_dict = pkl.load(open(f\"{dataset_name}_seed3.pkl\", 'rb'))\n",
    "figs_source_a = 'data/RawCitiesData/The Hague/Source A/png_figs'\n",
    "figs_source_b = 'data/RawCitiesData/The Hague/Source B/png_figs'"
   ],
   "metadata": {
    "collapsed": false,
    "ExecuteTime": {
     "end_time": "2025-03-27T09:44:11.910911200Z",
     "start_time": "2025-03-27T09:44:10.625822600Z"
    }
   },
   "id": "b8fd4b25f3888e32"
  },
  {
   "cell_type": "code",
   "execution_count": 8,
   "outputs": [
    {
     "name": "stdout",
     "output_type": "stream",
     "text": [
      "Number of pairs: 6606 for neg_samples: 2 and dsize: small\n",
      "Number of matching pairs: 2202\n",
      "===========================================\n",
      "Number of pairs: 13212 for neg_samples: 5 and dsize: small\n",
      "Number of matching pairs: 2202\n",
      "===========================================\n",
      "Number of pairs: 26423 for neg_samples: 2 and dsize: medium\n",
      "Number of matching pairs: 8808\n",
      "===========================================\n",
      "Number of pairs: 52847 for neg_samples: 5 and dsize: medium\n",
      "Number of matching pairs: 8808\n",
      "===========================================\n",
      "Number of pairs: 39637 for neg_samples: 2 and dsize: large\n",
      "Number of matching pairs: 13213\n",
      "===========================================\n",
      "Number of pairs: 79275 for neg_samples: 5 and dsize: large\n",
      "Number of matching pairs: 13213\n",
      "===========================================\n"
     ]
    }
   ],
   "source": [
    "for dsize in ['small', 'medium', 'large']:\n",
    "    for neg_samples in [2, 5]:\n",
    "        print(f\"Number of pairs: {len(dataset_partition_dict['train'][dsize][neg_samples])} for neg_samples: {neg_samples} and dsize: {dsize}\")\n",
    "        print(f\"Number of matching pairs: {len([pair for pair in dataset_partition_dict['train'][dsize][neg_samples] if pair[0] == pair[1]])}\")\n",
    "        print(\"===========================================\")"
   ],
   "metadata": {
    "collapsed": false,
    "ExecuteTime": {
     "end_time": "2025-03-26T11:58:08.232816400Z",
     "start_time": "2025-03-26T11:58:08.222712600Z"
    }
   },
   "id": "15e95b3dc504285b"
  },
  {
   "cell_type": "code",
   "execution_count": 9,
   "outputs": [
    {
     "name": "stdout",
     "output_type": "stream",
     "text": [
      "Number of pairs: 5946 for neg_samples: 2 and dsize: small\n",
      "Number of matching pairs: 1982\n",
      "===========================================\n",
      "Number of pairs: 11892 for neg_samples: 5 and dsize: small\n",
      "Number of matching pairs: 1982\n",
      "===========================================\n",
      "Number of pairs: 19821 for neg_samples: 2 and dsize: medium\n",
      "Number of matching pairs: 6607\n",
      "===========================================\n",
      "Number of pairs: 39642 for neg_samples: 5 and dsize: medium\n",
      "Number of matching pairs: 6607\n",
      "===========================================\n",
      "Number of pairs: 26427 for neg_samples: 2 and dsize: large\n",
      "Number of matching pairs: 8809\n",
      "===========================================\n",
      "Number of pairs: 52853 for neg_samples: 5 and dsize: large\n",
      "Number of matching pairs: 8809\n",
      "===========================================\n"
     ]
    }
   ],
   "source": [
    "for dsize in ['small', 'medium', 'large']:\n",
    "    curr_dict = dataset_partition_dict['test']['matching']['negative_sampling']\n",
    "    for neg_samples in [2, 5]:\n",
    "        print(f\"Number of pairs: {len(curr_dict[dsize][neg_samples])} for neg_samples: {neg_samples} and dsize: {dsize}\")\n",
    "        print(f\"Number of matching pairs: {len([pair for pair in curr_dict[dsize][neg_samples] if pair[0] == pair[1]])}\")\n",
    "        print(\"===========================================\")"
   ],
   "metadata": {
    "collapsed": false,
    "ExecuteTime": {
     "end_time": "2025-03-26T11:58:30.079928400Z",
     "start_time": "2025-03-26T11:58:30.003018900Z"
    }
   },
   "id": "d1726d6e5c3dde7"
  },
  {
   "cell_type": "code",
   "execution_count": 44,
   "outputs": [
    {
     "name": "stdout",
     "output_type": "stream",
     "text": [
      "Number of cands: 1982 and number of index: 5143 for dsize: small\n",
      "Number of cands: 8809 and number of index: 33830 for dsize: large\n",
      "Number of cands: 1982 and number of index: 5143 for dsize: small\n",
      "Number of cands: 8809 and number of index: 33830 for dsize: large\n",
      "Number of cands: 1982 and number of index: 5143 for dsize: small\n",
      "Number of cands: 8809 and number of index: 33830 for dsize: large\n"
     ]
    }
   ],
   "source": [
    "for dsize in ['small', 'medium', 'large']:\n",
    "    curr_dict = dataset_partition_dict['test']['blocking']\n",
    "    for dsize in ['small', 'large']:\n",
    "        print(f\"Number of cands: {len(curr_dict[dsize]['cands'])} and number of index: {len(curr_dict[dsize]['index'])} for dsize: {dsize}\")"
   ],
   "metadata": {
    "collapsed": false,
    "ExecuteTime": {
     "end_time": "2025-03-27T14:46:48.090504100Z",
     "start_time": "2025-03-27T14:46:48.060449800Z"
    }
   },
   "id": "8f1ef6754b810c6d"
  },
  {
   "cell_type": "code",
   "execution_count": null,
   "outputs": [],
   "source": [],
   "metadata": {
    "collapsed": false
   },
   "id": "d55bc7db31d15573"
  },
  {
   "cell_type": "code",
   "execution_count": 20,
   "outputs": [],
   "source": [
    "cands_ids_test = dataset_partition_dict['test']['blocking']['small']['cands']\n",
    "index_ids_test = dataset_partition_dict['test']['blocking']['small']['index']"
   ],
   "metadata": {
    "collapsed": false,
    "ExecuteTime": {
     "end_time": "2025-03-27T09:45:47.927261800Z",
     "start_time": "2025-03-27T09:45:47.886518200Z"
    }
   },
   "id": "6936a3c2016a4ff7"
  },
  {
   "cell_type": "code",
   "execution_count": null,
   "outputs": [],
   "source": [],
   "metadata": {
    "collapsed": false
   },
   "id": "2d64251515731680"
  },
  {
   "cell_type": "code",
   "execution_count": null,
   "outputs": [],
   "source": [],
   "metadata": {
    "collapsed": false
   },
   "id": "c2073997c4f57681"
  },
  {
   "cell_type": "code",
   "execution_count": null,
   "outputs": [],
   "source": [],
   "metadata": {
    "collapsed": false
   },
   "id": "ecd461a9fc3503a8"
  },
  {
   "cell_type": "markdown",
   "source": [
    "# Generate embds"
   ],
   "metadata": {
    "collapsed": false
   },
   "id": "df902768936accb5"
  },
  {
   "cell_type": "code",
   "execution_count": 5,
   "outputs": [],
   "source": [
    "def get_clip_embedding(model, image_path):\n",
    "    image = preprocess(Image.open(image_path)).unsqueeze(0).to(device)\n",
    "    with torch.no_grad():\n",
    "        embedding = model.encode_image(image).float()\n",
    "    return embedding.cpu().numpy()\n",
    "\n",
    "def get_all_source_embds(figs_dir, rel_ids, model):\n",
    "    embds = []\n",
    "    fig_names = os.listdir(figs_dir)\n",
    "    figs_to_embed = [fig_name for fig_name in fig_names if fig_name.split('.')[0] in rel_ids]\n",
    "    mapping_dict = {}\n",
    "    for ind, fig_name in enumerate(tqdm.tqdm(figs_to_embed)):\n",
    "        embds.append(get_clip_embedding(model, ''.join([figs_dir, '/', fig_name])))\n",
    "        mapping_dict[ind] = fig_name.split('.')[0]\n",
    "    embds = np.array(embds, dtype=np.float32)\n",
    "    return np.squeeze(embds, axis=1), mapping_dict"
   ],
   "metadata": {
    "collapsed": false,
    "ExecuteTime": {
     "end_time": "2025-03-27T09:44:22.446611900Z",
     "start_time": "2025-03-27T09:44:22.420539100Z"
    }
   },
   "id": "f0232b7314adffb9"
  },
  {
   "cell_type": "code",
   "execution_count": 60,
   "outputs": [
    {
     "name": "stderr",
     "output_type": "stream",
     "text": [
      "  2%|▏         | 33/1982 [00:01<01:25, 22.73it/s]\n"
     ]
    },
    {
     "ename": "KeyboardInterrupt",
     "evalue": "",
     "output_type": "error",
     "traceback": [
      "\u001B[1;31m---------------------------------------------------------------------------\u001B[0m",
      "\u001B[1;31mKeyboardInterrupt\u001B[0m                         Traceback (most recent call last)",
      "Cell \u001B[1;32mIn[60], line 4\u001B[0m\n\u001B[0;32m      1\u001B[0m model_name \u001B[38;5;241m=\u001B[39m \u001B[38;5;124m\"\u001B[39m\u001B[38;5;124mViT-L/14\u001B[39m\u001B[38;5;124m\"\u001B[39m \u001B[38;5;66;03m# options are: \"ViT-B/32\" and \"ViT-L/14\"\u001B[39;00m\n\u001B[1;32m----> 4\u001B[0m source_a_embds, mapping_dict_a \u001B[38;5;241m=\u001B[39m get_all_source_embds(figs_source_a, cands_ids_test, vit_model\u001B[38;5;241m=\u001B[39mmodel_name)\n\u001B[0;32m      5\u001B[0m source_b_embds, mapping_dict_b \u001B[38;5;241m=\u001B[39m get_all_source_embds(figs_source_b, index_ids_test, vit_model\u001B[38;5;241m=\u001B[39mmodel_name)\n",
      "Cell \u001B[1;32mIn[59], line 25\u001B[0m, in \u001B[0;36mget_all_source_embds\u001B[1;34m(figs_dir, rel_ids, vit_model)\u001B[0m\n\u001B[0;32m     23\u001B[0m mapping_dict \u001B[38;5;241m=\u001B[39m {}\n\u001B[0;32m     24\u001B[0m \u001B[38;5;28;01mfor\u001B[39;00m ind, fig_name \u001B[38;5;129;01min\u001B[39;00m \u001B[38;5;28menumerate\u001B[39m(tqdm\u001B[38;5;241m.\u001B[39mtqdm(figs_to_embed)):\n\u001B[1;32m---> 25\u001B[0m     embds\u001B[38;5;241m.\u001B[39mappend(get_clip_embedding(model, \u001B[38;5;124m'\u001B[39m\u001B[38;5;124m'\u001B[39m\u001B[38;5;241m.\u001B[39mjoin([figs_dir, \u001B[38;5;124m'\u001B[39m\u001B[38;5;124m/\u001B[39m\u001B[38;5;124m'\u001B[39m, fig_name])))\n\u001B[0;32m     26\u001B[0m     mapping_dict[ind] \u001B[38;5;241m=\u001B[39m fig_name\u001B[38;5;241m.\u001B[39msplit(\u001B[38;5;124m'\u001B[39m\u001B[38;5;124m.\u001B[39m\u001B[38;5;124m'\u001B[39m)[\u001B[38;5;241m0\u001B[39m]\n\u001B[0;32m     27\u001B[0m embds \u001B[38;5;241m=\u001B[39m np\u001B[38;5;241m.\u001B[39marray(embds, dtype\u001B[38;5;241m=\u001B[39mnp\u001B[38;5;241m.\u001B[39mfloat32)\n",
      "Cell \u001B[1;32mIn[59], line 4\u001B[0m, in \u001B[0;36mget_clip_embedding\u001B[1;34m(model, image_path)\u001B[0m\n\u001B[0;32m      2\u001B[0m image \u001B[38;5;241m=\u001B[39m preprocess(Image\u001B[38;5;241m.\u001B[39mopen(image_path))\u001B[38;5;241m.\u001B[39munsqueeze(\u001B[38;5;241m0\u001B[39m)\u001B[38;5;241m.\u001B[39mto(device)\n\u001B[0;32m      3\u001B[0m \u001B[38;5;28;01mwith\u001B[39;00m torch\u001B[38;5;241m.\u001B[39mno_grad():\n\u001B[1;32m----> 4\u001B[0m     embedding \u001B[38;5;241m=\u001B[39m model\u001B[38;5;241m.\u001B[39mencode_image(image)\u001B[38;5;241m.\u001B[39mfloat()\n\u001B[0;32m      5\u001B[0m \u001B[38;5;28;01mreturn\u001B[39;00m embedding\u001B[38;5;241m.\u001B[39mcpu()\u001B[38;5;241m.\u001B[39mnumpy()\n",
      "File \u001B[1;32m~\\anaconda3\\envs\\Bar_env\\Lib\\site-packages\\clip\\model.py:341\u001B[0m, in \u001B[0;36mCLIP.encode_image\u001B[1;34m(self, image)\u001B[0m\n\u001B[0;32m    340\u001B[0m \u001B[38;5;28;01mdef\u001B[39;00m \u001B[38;5;21mencode_image\u001B[39m(\u001B[38;5;28mself\u001B[39m, image):\n\u001B[1;32m--> 341\u001B[0m     \u001B[38;5;28;01mreturn\u001B[39;00m \u001B[38;5;28mself\u001B[39m\u001B[38;5;241m.\u001B[39mvisual(image\u001B[38;5;241m.\u001B[39mtype(\u001B[38;5;28mself\u001B[39m\u001B[38;5;241m.\u001B[39mdtype))\n",
      "File \u001B[1;32m~\\anaconda3\\envs\\Bar_env\\Lib\\site-packages\\torch\\nn\\modules\\module.py:1518\u001B[0m, in \u001B[0;36mModule._wrapped_call_impl\u001B[1;34m(self, *args, **kwargs)\u001B[0m\n\u001B[0;32m   1516\u001B[0m     \u001B[38;5;28;01mreturn\u001B[39;00m \u001B[38;5;28mself\u001B[39m\u001B[38;5;241m.\u001B[39m_compiled_call_impl(\u001B[38;5;241m*\u001B[39margs, \u001B[38;5;241m*\u001B[39m\u001B[38;5;241m*\u001B[39mkwargs)  \u001B[38;5;66;03m# type: ignore[misc]\u001B[39;00m\n\u001B[0;32m   1517\u001B[0m \u001B[38;5;28;01melse\u001B[39;00m:\n\u001B[1;32m-> 1518\u001B[0m     \u001B[38;5;28;01mreturn\u001B[39;00m \u001B[38;5;28mself\u001B[39m\u001B[38;5;241m.\u001B[39m_call_impl(\u001B[38;5;241m*\u001B[39margs, \u001B[38;5;241m*\u001B[39m\u001B[38;5;241m*\u001B[39mkwargs)\n",
      "File \u001B[1;32m~\\anaconda3\\envs\\Bar_env\\Lib\\site-packages\\torch\\nn\\modules\\module.py:1527\u001B[0m, in \u001B[0;36mModule._call_impl\u001B[1;34m(self, *args, **kwargs)\u001B[0m\n\u001B[0;32m   1522\u001B[0m \u001B[38;5;66;03m# If we don't have any hooks, we want to skip the rest of the logic in\u001B[39;00m\n\u001B[0;32m   1523\u001B[0m \u001B[38;5;66;03m# this function, and just call forward.\u001B[39;00m\n\u001B[0;32m   1524\u001B[0m \u001B[38;5;28;01mif\u001B[39;00m \u001B[38;5;129;01mnot\u001B[39;00m (\u001B[38;5;28mself\u001B[39m\u001B[38;5;241m.\u001B[39m_backward_hooks \u001B[38;5;129;01mor\u001B[39;00m \u001B[38;5;28mself\u001B[39m\u001B[38;5;241m.\u001B[39m_backward_pre_hooks \u001B[38;5;129;01mor\u001B[39;00m \u001B[38;5;28mself\u001B[39m\u001B[38;5;241m.\u001B[39m_forward_hooks \u001B[38;5;129;01mor\u001B[39;00m \u001B[38;5;28mself\u001B[39m\u001B[38;5;241m.\u001B[39m_forward_pre_hooks\n\u001B[0;32m   1525\u001B[0m         \u001B[38;5;129;01mor\u001B[39;00m _global_backward_pre_hooks \u001B[38;5;129;01mor\u001B[39;00m _global_backward_hooks\n\u001B[0;32m   1526\u001B[0m         \u001B[38;5;129;01mor\u001B[39;00m _global_forward_hooks \u001B[38;5;129;01mor\u001B[39;00m _global_forward_pre_hooks):\n\u001B[1;32m-> 1527\u001B[0m     \u001B[38;5;28;01mreturn\u001B[39;00m forward_call(\u001B[38;5;241m*\u001B[39margs, \u001B[38;5;241m*\u001B[39m\u001B[38;5;241m*\u001B[39mkwargs)\n\u001B[0;32m   1529\u001B[0m \u001B[38;5;28;01mtry\u001B[39;00m:\n\u001B[0;32m   1530\u001B[0m     result \u001B[38;5;241m=\u001B[39m \u001B[38;5;28;01mNone\u001B[39;00m\n",
      "File \u001B[1;32m~\\anaconda3\\envs\\Bar_env\\Lib\\site-packages\\clip\\model.py:232\u001B[0m, in \u001B[0;36mVisionTransformer.forward\u001B[1;34m(self, x)\u001B[0m\n\u001B[0;32m    229\u001B[0m x \u001B[38;5;241m=\u001B[39m \u001B[38;5;28mself\u001B[39m\u001B[38;5;241m.\u001B[39mln_pre(x)\n\u001B[0;32m    231\u001B[0m x \u001B[38;5;241m=\u001B[39m x\u001B[38;5;241m.\u001B[39mpermute(\u001B[38;5;241m1\u001B[39m, \u001B[38;5;241m0\u001B[39m, \u001B[38;5;241m2\u001B[39m)  \u001B[38;5;66;03m# NLD -> LND\u001B[39;00m\n\u001B[1;32m--> 232\u001B[0m x \u001B[38;5;241m=\u001B[39m \u001B[38;5;28mself\u001B[39m\u001B[38;5;241m.\u001B[39mtransformer(x)\n\u001B[0;32m    233\u001B[0m x \u001B[38;5;241m=\u001B[39m x\u001B[38;5;241m.\u001B[39mpermute(\u001B[38;5;241m1\u001B[39m, \u001B[38;5;241m0\u001B[39m, \u001B[38;5;241m2\u001B[39m)  \u001B[38;5;66;03m# LND -> NLD\u001B[39;00m\n\u001B[0;32m    235\u001B[0m x \u001B[38;5;241m=\u001B[39m \u001B[38;5;28mself\u001B[39m\u001B[38;5;241m.\u001B[39mln_post(x[:, \u001B[38;5;241m0\u001B[39m, :])\n",
      "File \u001B[1;32m~\\anaconda3\\envs\\Bar_env\\Lib\\site-packages\\torch\\nn\\modules\\module.py:1518\u001B[0m, in \u001B[0;36mModule._wrapped_call_impl\u001B[1;34m(self, *args, **kwargs)\u001B[0m\n\u001B[0;32m   1516\u001B[0m     \u001B[38;5;28;01mreturn\u001B[39;00m \u001B[38;5;28mself\u001B[39m\u001B[38;5;241m.\u001B[39m_compiled_call_impl(\u001B[38;5;241m*\u001B[39margs, \u001B[38;5;241m*\u001B[39m\u001B[38;5;241m*\u001B[39mkwargs)  \u001B[38;5;66;03m# type: ignore[misc]\u001B[39;00m\n\u001B[0;32m   1517\u001B[0m \u001B[38;5;28;01melse\u001B[39;00m:\n\u001B[1;32m-> 1518\u001B[0m     \u001B[38;5;28;01mreturn\u001B[39;00m \u001B[38;5;28mself\u001B[39m\u001B[38;5;241m.\u001B[39m_call_impl(\u001B[38;5;241m*\u001B[39margs, \u001B[38;5;241m*\u001B[39m\u001B[38;5;241m*\u001B[39mkwargs)\n",
      "File \u001B[1;32m~\\anaconda3\\envs\\Bar_env\\Lib\\site-packages\\torch\\nn\\modules\\module.py:1527\u001B[0m, in \u001B[0;36mModule._call_impl\u001B[1;34m(self, *args, **kwargs)\u001B[0m\n\u001B[0;32m   1522\u001B[0m \u001B[38;5;66;03m# If we don't have any hooks, we want to skip the rest of the logic in\u001B[39;00m\n\u001B[0;32m   1523\u001B[0m \u001B[38;5;66;03m# this function, and just call forward.\u001B[39;00m\n\u001B[0;32m   1524\u001B[0m \u001B[38;5;28;01mif\u001B[39;00m \u001B[38;5;129;01mnot\u001B[39;00m (\u001B[38;5;28mself\u001B[39m\u001B[38;5;241m.\u001B[39m_backward_hooks \u001B[38;5;129;01mor\u001B[39;00m \u001B[38;5;28mself\u001B[39m\u001B[38;5;241m.\u001B[39m_backward_pre_hooks \u001B[38;5;129;01mor\u001B[39;00m \u001B[38;5;28mself\u001B[39m\u001B[38;5;241m.\u001B[39m_forward_hooks \u001B[38;5;129;01mor\u001B[39;00m \u001B[38;5;28mself\u001B[39m\u001B[38;5;241m.\u001B[39m_forward_pre_hooks\n\u001B[0;32m   1525\u001B[0m         \u001B[38;5;129;01mor\u001B[39;00m _global_backward_pre_hooks \u001B[38;5;129;01mor\u001B[39;00m _global_backward_hooks\n\u001B[0;32m   1526\u001B[0m         \u001B[38;5;129;01mor\u001B[39;00m _global_forward_hooks \u001B[38;5;129;01mor\u001B[39;00m _global_forward_pre_hooks):\n\u001B[1;32m-> 1527\u001B[0m     \u001B[38;5;28;01mreturn\u001B[39;00m forward_call(\u001B[38;5;241m*\u001B[39margs, \u001B[38;5;241m*\u001B[39m\u001B[38;5;241m*\u001B[39mkwargs)\n\u001B[0;32m   1529\u001B[0m \u001B[38;5;28;01mtry\u001B[39;00m:\n\u001B[0;32m   1530\u001B[0m     result \u001B[38;5;241m=\u001B[39m \u001B[38;5;28;01mNone\u001B[39;00m\n",
      "File \u001B[1;32m~\\anaconda3\\envs\\Bar_env\\Lib\\site-packages\\clip\\model.py:203\u001B[0m, in \u001B[0;36mTransformer.forward\u001B[1;34m(self, x)\u001B[0m\n\u001B[0;32m    202\u001B[0m \u001B[38;5;28;01mdef\u001B[39;00m \u001B[38;5;21mforward\u001B[39m(\u001B[38;5;28mself\u001B[39m, x: torch\u001B[38;5;241m.\u001B[39mTensor):\n\u001B[1;32m--> 203\u001B[0m     \u001B[38;5;28;01mreturn\u001B[39;00m \u001B[38;5;28mself\u001B[39m\u001B[38;5;241m.\u001B[39mresblocks(x)\n",
      "File \u001B[1;32m~\\anaconda3\\envs\\Bar_env\\Lib\\site-packages\\torch\\nn\\modules\\module.py:1518\u001B[0m, in \u001B[0;36mModule._wrapped_call_impl\u001B[1;34m(self, *args, **kwargs)\u001B[0m\n\u001B[0;32m   1516\u001B[0m     \u001B[38;5;28;01mreturn\u001B[39;00m \u001B[38;5;28mself\u001B[39m\u001B[38;5;241m.\u001B[39m_compiled_call_impl(\u001B[38;5;241m*\u001B[39margs, \u001B[38;5;241m*\u001B[39m\u001B[38;5;241m*\u001B[39mkwargs)  \u001B[38;5;66;03m# type: ignore[misc]\u001B[39;00m\n\u001B[0;32m   1517\u001B[0m \u001B[38;5;28;01melse\u001B[39;00m:\n\u001B[1;32m-> 1518\u001B[0m     \u001B[38;5;28;01mreturn\u001B[39;00m \u001B[38;5;28mself\u001B[39m\u001B[38;5;241m.\u001B[39m_call_impl(\u001B[38;5;241m*\u001B[39margs, \u001B[38;5;241m*\u001B[39m\u001B[38;5;241m*\u001B[39mkwargs)\n",
      "File \u001B[1;32m~\\anaconda3\\envs\\Bar_env\\Lib\\site-packages\\torch\\nn\\modules\\module.py:1527\u001B[0m, in \u001B[0;36mModule._call_impl\u001B[1;34m(self, *args, **kwargs)\u001B[0m\n\u001B[0;32m   1522\u001B[0m \u001B[38;5;66;03m# If we don't have any hooks, we want to skip the rest of the logic in\u001B[39;00m\n\u001B[0;32m   1523\u001B[0m \u001B[38;5;66;03m# this function, and just call forward.\u001B[39;00m\n\u001B[0;32m   1524\u001B[0m \u001B[38;5;28;01mif\u001B[39;00m \u001B[38;5;129;01mnot\u001B[39;00m (\u001B[38;5;28mself\u001B[39m\u001B[38;5;241m.\u001B[39m_backward_hooks \u001B[38;5;129;01mor\u001B[39;00m \u001B[38;5;28mself\u001B[39m\u001B[38;5;241m.\u001B[39m_backward_pre_hooks \u001B[38;5;129;01mor\u001B[39;00m \u001B[38;5;28mself\u001B[39m\u001B[38;5;241m.\u001B[39m_forward_hooks \u001B[38;5;129;01mor\u001B[39;00m \u001B[38;5;28mself\u001B[39m\u001B[38;5;241m.\u001B[39m_forward_pre_hooks\n\u001B[0;32m   1525\u001B[0m         \u001B[38;5;129;01mor\u001B[39;00m _global_backward_pre_hooks \u001B[38;5;129;01mor\u001B[39;00m _global_backward_hooks\n\u001B[0;32m   1526\u001B[0m         \u001B[38;5;129;01mor\u001B[39;00m _global_forward_hooks \u001B[38;5;129;01mor\u001B[39;00m _global_forward_pre_hooks):\n\u001B[1;32m-> 1527\u001B[0m     \u001B[38;5;28;01mreturn\u001B[39;00m forward_call(\u001B[38;5;241m*\u001B[39margs, \u001B[38;5;241m*\u001B[39m\u001B[38;5;241m*\u001B[39mkwargs)\n\u001B[0;32m   1529\u001B[0m \u001B[38;5;28;01mtry\u001B[39;00m:\n\u001B[0;32m   1530\u001B[0m     result \u001B[38;5;241m=\u001B[39m \u001B[38;5;28;01mNone\u001B[39;00m\n",
      "File \u001B[1;32m~\\anaconda3\\envs\\Bar_env\\Lib\\site-packages\\torch\\nn\\modules\\container.py:215\u001B[0m, in \u001B[0;36mSequential.forward\u001B[1;34m(self, input)\u001B[0m\n\u001B[0;32m    213\u001B[0m \u001B[38;5;28;01mdef\u001B[39;00m \u001B[38;5;21mforward\u001B[39m(\u001B[38;5;28mself\u001B[39m, \u001B[38;5;28minput\u001B[39m):\n\u001B[0;32m    214\u001B[0m     \u001B[38;5;28;01mfor\u001B[39;00m module \u001B[38;5;129;01min\u001B[39;00m \u001B[38;5;28mself\u001B[39m:\n\u001B[1;32m--> 215\u001B[0m         \u001B[38;5;28minput\u001B[39m \u001B[38;5;241m=\u001B[39m module(\u001B[38;5;28minput\u001B[39m)\n\u001B[0;32m    216\u001B[0m     \u001B[38;5;28;01mreturn\u001B[39;00m \u001B[38;5;28minput\u001B[39m\n",
      "File \u001B[1;32m~\\anaconda3\\envs\\Bar_env\\Lib\\site-packages\\torch\\nn\\modules\\module.py:1518\u001B[0m, in \u001B[0;36mModule._wrapped_call_impl\u001B[1;34m(self, *args, **kwargs)\u001B[0m\n\u001B[0;32m   1516\u001B[0m     \u001B[38;5;28;01mreturn\u001B[39;00m \u001B[38;5;28mself\u001B[39m\u001B[38;5;241m.\u001B[39m_compiled_call_impl(\u001B[38;5;241m*\u001B[39margs, \u001B[38;5;241m*\u001B[39m\u001B[38;5;241m*\u001B[39mkwargs)  \u001B[38;5;66;03m# type: ignore[misc]\u001B[39;00m\n\u001B[0;32m   1517\u001B[0m \u001B[38;5;28;01melse\u001B[39;00m:\n\u001B[1;32m-> 1518\u001B[0m     \u001B[38;5;28;01mreturn\u001B[39;00m \u001B[38;5;28mself\u001B[39m\u001B[38;5;241m.\u001B[39m_call_impl(\u001B[38;5;241m*\u001B[39margs, \u001B[38;5;241m*\u001B[39m\u001B[38;5;241m*\u001B[39mkwargs)\n",
      "File \u001B[1;32m~\\anaconda3\\envs\\Bar_env\\Lib\\site-packages\\torch\\nn\\modules\\module.py:1527\u001B[0m, in \u001B[0;36mModule._call_impl\u001B[1;34m(self, *args, **kwargs)\u001B[0m\n\u001B[0;32m   1522\u001B[0m \u001B[38;5;66;03m# If we don't have any hooks, we want to skip the rest of the logic in\u001B[39;00m\n\u001B[0;32m   1523\u001B[0m \u001B[38;5;66;03m# this function, and just call forward.\u001B[39;00m\n\u001B[0;32m   1524\u001B[0m \u001B[38;5;28;01mif\u001B[39;00m \u001B[38;5;129;01mnot\u001B[39;00m (\u001B[38;5;28mself\u001B[39m\u001B[38;5;241m.\u001B[39m_backward_hooks \u001B[38;5;129;01mor\u001B[39;00m \u001B[38;5;28mself\u001B[39m\u001B[38;5;241m.\u001B[39m_backward_pre_hooks \u001B[38;5;129;01mor\u001B[39;00m \u001B[38;5;28mself\u001B[39m\u001B[38;5;241m.\u001B[39m_forward_hooks \u001B[38;5;129;01mor\u001B[39;00m \u001B[38;5;28mself\u001B[39m\u001B[38;5;241m.\u001B[39m_forward_pre_hooks\n\u001B[0;32m   1525\u001B[0m         \u001B[38;5;129;01mor\u001B[39;00m _global_backward_pre_hooks \u001B[38;5;129;01mor\u001B[39;00m _global_backward_hooks\n\u001B[0;32m   1526\u001B[0m         \u001B[38;5;129;01mor\u001B[39;00m _global_forward_hooks \u001B[38;5;129;01mor\u001B[39;00m _global_forward_pre_hooks):\n\u001B[1;32m-> 1527\u001B[0m     \u001B[38;5;28;01mreturn\u001B[39;00m forward_call(\u001B[38;5;241m*\u001B[39margs, \u001B[38;5;241m*\u001B[39m\u001B[38;5;241m*\u001B[39mkwargs)\n\u001B[0;32m   1529\u001B[0m \u001B[38;5;28;01mtry\u001B[39;00m:\n\u001B[0;32m   1530\u001B[0m     result \u001B[38;5;241m=\u001B[39m \u001B[38;5;28;01mNone\u001B[39;00m\n",
      "File \u001B[1;32m~\\anaconda3\\envs\\Bar_env\\Lib\\site-packages\\clip\\model.py:191\u001B[0m, in \u001B[0;36mResidualAttentionBlock.forward\u001B[1;34m(self, x)\u001B[0m\n\u001B[0;32m    189\u001B[0m \u001B[38;5;28;01mdef\u001B[39;00m \u001B[38;5;21mforward\u001B[39m(\u001B[38;5;28mself\u001B[39m, x: torch\u001B[38;5;241m.\u001B[39mTensor):\n\u001B[0;32m    190\u001B[0m     x \u001B[38;5;241m=\u001B[39m x \u001B[38;5;241m+\u001B[39m \u001B[38;5;28mself\u001B[39m\u001B[38;5;241m.\u001B[39mattention(\u001B[38;5;28mself\u001B[39m\u001B[38;5;241m.\u001B[39mln_1(x))\n\u001B[1;32m--> 191\u001B[0m     x \u001B[38;5;241m=\u001B[39m x \u001B[38;5;241m+\u001B[39m \u001B[38;5;28mself\u001B[39m\u001B[38;5;241m.\u001B[39mmlp(\u001B[38;5;28mself\u001B[39m\u001B[38;5;241m.\u001B[39mln_2(x))\n\u001B[0;32m    192\u001B[0m     \u001B[38;5;28;01mreturn\u001B[39;00m x\n",
      "File \u001B[1;32m~\\anaconda3\\envs\\Bar_env\\Lib\\site-packages\\torch\\nn\\modules\\module.py:1518\u001B[0m, in \u001B[0;36mModule._wrapped_call_impl\u001B[1;34m(self, *args, **kwargs)\u001B[0m\n\u001B[0;32m   1516\u001B[0m     \u001B[38;5;28;01mreturn\u001B[39;00m \u001B[38;5;28mself\u001B[39m\u001B[38;5;241m.\u001B[39m_compiled_call_impl(\u001B[38;5;241m*\u001B[39margs, \u001B[38;5;241m*\u001B[39m\u001B[38;5;241m*\u001B[39mkwargs)  \u001B[38;5;66;03m# type: ignore[misc]\u001B[39;00m\n\u001B[0;32m   1517\u001B[0m \u001B[38;5;28;01melse\u001B[39;00m:\n\u001B[1;32m-> 1518\u001B[0m     \u001B[38;5;28;01mreturn\u001B[39;00m \u001B[38;5;28mself\u001B[39m\u001B[38;5;241m.\u001B[39m_call_impl(\u001B[38;5;241m*\u001B[39margs, \u001B[38;5;241m*\u001B[39m\u001B[38;5;241m*\u001B[39mkwargs)\n",
      "File \u001B[1;32m~\\anaconda3\\envs\\Bar_env\\Lib\\site-packages\\torch\\nn\\modules\\module.py:1527\u001B[0m, in \u001B[0;36mModule._call_impl\u001B[1;34m(self, *args, **kwargs)\u001B[0m\n\u001B[0;32m   1522\u001B[0m \u001B[38;5;66;03m# If we don't have any hooks, we want to skip the rest of the logic in\u001B[39;00m\n\u001B[0;32m   1523\u001B[0m \u001B[38;5;66;03m# this function, and just call forward.\u001B[39;00m\n\u001B[0;32m   1524\u001B[0m \u001B[38;5;28;01mif\u001B[39;00m \u001B[38;5;129;01mnot\u001B[39;00m (\u001B[38;5;28mself\u001B[39m\u001B[38;5;241m.\u001B[39m_backward_hooks \u001B[38;5;129;01mor\u001B[39;00m \u001B[38;5;28mself\u001B[39m\u001B[38;5;241m.\u001B[39m_backward_pre_hooks \u001B[38;5;129;01mor\u001B[39;00m \u001B[38;5;28mself\u001B[39m\u001B[38;5;241m.\u001B[39m_forward_hooks \u001B[38;5;129;01mor\u001B[39;00m \u001B[38;5;28mself\u001B[39m\u001B[38;5;241m.\u001B[39m_forward_pre_hooks\n\u001B[0;32m   1525\u001B[0m         \u001B[38;5;129;01mor\u001B[39;00m _global_backward_pre_hooks \u001B[38;5;129;01mor\u001B[39;00m _global_backward_hooks\n\u001B[0;32m   1526\u001B[0m         \u001B[38;5;129;01mor\u001B[39;00m _global_forward_hooks \u001B[38;5;129;01mor\u001B[39;00m _global_forward_pre_hooks):\n\u001B[1;32m-> 1527\u001B[0m     \u001B[38;5;28;01mreturn\u001B[39;00m forward_call(\u001B[38;5;241m*\u001B[39margs, \u001B[38;5;241m*\u001B[39m\u001B[38;5;241m*\u001B[39mkwargs)\n\u001B[0;32m   1529\u001B[0m \u001B[38;5;28;01mtry\u001B[39;00m:\n\u001B[0;32m   1530\u001B[0m     result \u001B[38;5;241m=\u001B[39m \u001B[38;5;28;01mNone\u001B[39;00m\n",
      "File \u001B[1;32m~\\anaconda3\\envs\\Bar_env\\Lib\\site-packages\\clip\\model.py:162\u001B[0m, in \u001B[0;36mLayerNorm.forward\u001B[1;34m(self, x)\u001B[0m\n\u001B[0;32m    160\u001B[0m \u001B[38;5;28;01mdef\u001B[39;00m \u001B[38;5;21mforward\u001B[39m(\u001B[38;5;28mself\u001B[39m, x: torch\u001B[38;5;241m.\u001B[39mTensor):\n\u001B[0;32m    161\u001B[0m     orig_type \u001B[38;5;241m=\u001B[39m x\u001B[38;5;241m.\u001B[39mdtype\n\u001B[1;32m--> 162\u001B[0m     ret \u001B[38;5;241m=\u001B[39m \u001B[38;5;28msuper\u001B[39m()\u001B[38;5;241m.\u001B[39mforward(x\u001B[38;5;241m.\u001B[39mtype(torch\u001B[38;5;241m.\u001B[39mfloat32))\n\u001B[0;32m    163\u001B[0m     \u001B[38;5;28;01mreturn\u001B[39;00m ret\u001B[38;5;241m.\u001B[39mtype(orig_type)\n",
      "\u001B[1;31mKeyboardInterrupt\u001B[0m: "
     ]
    }
   ],
   "source": [
    "model_name = \"ViT-L/14\" # options are: \"ViT-B/32\" and \"ViT-L/14\"\n",
    "model_embds_dict = {}\n",
    "for model_name in [\"ViT-B/32\", \"ViT-L/14\"]:\n",
    "    model_embds_dict[model_name] = {}\n",
    "    model = clip.load(model_name, device=device)[0]\n",
    "    source_a_embds, mapping_dict_a = get_all_source_embds(figs_source_a, cands_ids_test, model)\n",
    "    source_b_embds, mapping_dict_b = get_all_source_embds(figs_source_b, index_ids_test, model)\n",
    "    model_embds_dict[model_name]['cands'] = source_a_embds\n",
    "    model_embds_dict[model_name]['index'] = source_b_embds\n",
    "model_embds_dict['mapping_dict_cands'] = mapping_dict_a\n",
    "model_embds_dict['mapping_dict_index'] = mapping_dict_b"
   ],
   "metadata": {
    "collapsed": false,
    "ExecuteTime": {
     "end_time": "2025-03-26T13:49:40.454333600Z",
     "start_time": "2025-03-26T13:49:27.499569800Z"
    }
   },
   "id": "e969e15d90041f86"
  },
  {
   "cell_type": "code",
   "execution_count": 41,
   "outputs": [],
   "source": [
    "model_embds_dict[\"ViT-L/14\"] = {'cands': source_a_embds, 'index': source_b_embds}"
   ],
   "metadata": {
    "collapsed": false,
    "ExecuteTime": {
     "end_time": "2025-03-26T12:54:39.385443800Z",
     "start_time": "2025-03-26T12:54:39.381656600Z"
    }
   },
   "id": "cafc720f21d72b20"
  },
  {
   "cell_type": "code",
   "execution_count": 35,
   "outputs": [],
   "source": [
    "# model_embds_dict = {}\n",
    "# model_embds_dict[\"ViT-B/32\"] = {'cands': source_a_embds, 'index': source_b_embds}"
   ],
   "metadata": {
    "collapsed": false,
    "ExecuteTime": {
     "end_time": "2025-03-26T12:50:08.107625400Z",
     "start_time": "2025-03-26T12:50:08.103808500Z"
    }
   },
   "id": "c352b7c71cf22b49"
  },
  {
   "cell_type": "code",
   "execution_count": 18,
   "outputs": [
    {
     "data": {
      "text/plain": "(1982, 5143)"
     },
     "execution_count": 18,
     "metadata": {},
     "output_type": "execute_result"
    }
   ],
   "source": [
    "len(source_a_embds), len(source_b_embds)"
   ],
   "metadata": {
    "collapsed": false,
    "ExecuteTime": {
     "end_time": "2025-03-26T12:08:39.657795600Z",
     "start_time": "2025-03-26T12:08:39.652226600Z"
    }
   },
   "id": "599984e31e22ebae"
  },
  {
   "cell_type": "code",
   "execution_count": 39,
   "outputs": [
    {
     "data": {
      "text/plain": "(1982, 5143)"
     },
     "execution_count": 39,
     "metadata": {},
     "output_type": "execute_result"
    }
   ],
   "source": [
    "len(mapping_dict_a), len(mapping_dict_b)"
   ],
   "metadata": {
    "collapsed": false,
    "ExecuteTime": {
     "end_time": "2025-03-26T12:54:06.517142400Z",
     "start_time": "2025-03-26T12:54:06.484487200Z"
    }
   },
   "id": "176814fba2979c34"
  },
  {
   "cell_type": "code",
   "execution_count": 107,
   "outputs": [],
   "source": [
    "del source_a_embds\n",
    "del source_b_embds"
   ],
   "metadata": {
    "collapsed": false,
    "ExecuteTime": {
     "end_time": "2025-03-26T15:46:37.771899200Z",
     "start_time": "2025-03-26T15:46:37.701238300Z"
    }
   },
   "id": "b7e40903aa14d1ee"
  },
  {
   "cell_type": "markdown",
   "source": [
    "# VIT Search"
   ],
   "metadata": {
    "collapsed": false
   },
   "id": "75a37354caec7c02"
  },
  {
   "cell_type": "code",
   "execution_count": 23,
   "outputs": [],
   "source": [
    "for elem in mapping_dict_a.values():\n",
    "    if elem not in mapping_dict_b.values():\n",
    "        print(elem)"
   ],
   "metadata": {
    "collapsed": false,
    "ExecuteTime": {
     "end_time": "2025-03-26T12:11:27.095729500Z",
     "start_time": "2025-03-26T12:11:26.687447300Z"
    }
   },
   "id": "268fb44def56b5e9"
  },
  {
   "cell_type": "code",
   "execution_count": 56,
   "outputs": [],
   "source": [
    "k = 50\n",
    "retrieval_dict = {}\n",
    "for model_name, embds_dicts in model_embds_dict.items():\n",
    "    retrieval_dict[model_name] = {}\n",
    "    index = faiss.IndexFlatL2(embds_dicts['index'].shape[1])\n",
    "    index.add(embds_dicts['index'])\n",
    "    for i, query in enumerate(embds_dicts['cands']):\n",
    "        _, neighbors = index.search(query.reshape(1, -1), k)\n",
    "        retrieval_dict[model_name][mapping_dict_a[i]] = [mapping_dict_b[ind] for ind in neighbors[0]]"
   ],
   "metadata": {
    "collapsed": false,
    "ExecuteTime": {
     "end_time": "2025-03-26T13:10:22.914508700Z",
     "start_time": "2025-03-26T13:10:20.473508800Z"
    }
   },
   "id": "b1d20e49ddb9b7a2"
  },
  {
   "cell_type": "code",
   "execution_count": null,
   "outputs": [],
   "source": [],
   "metadata": {
    "collapsed": false
   },
   "id": "907cfdfa9fae33a"
  },
  {
   "cell_type": "markdown",
   "source": [
    "# Evaluation"
   ],
   "metadata": {
    "collapsed": false
   },
   "id": "3758ccdfb55d160e"
  },
  {
   "cell_type": "code",
   "execution_count": 57,
   "outputs": [],
   "source": [
    "recall_dict = {model_name: {} for model_name in retrieval_dict.keys()}\n",
    "for model_name, retrieval in retrieval_dict.items():\n",
    "    for k_local in range(1, k + 1):\n",
    "        recall_dict[model_name][k_local] = round(np.mean([1 if key in value[:k_local] else 0 for key, value in retrieval_dict[model_name].items()]), 6)"
   ],
   "metadata": {
    "collapsed": false,
    "ExecuteTime": {
     "end_time": "2025-03-26T13:10:23.882888Z",
     "start_time": "2025-03-26T13:10:23.759422500Z"
    }
   },
   "id": "c068b325ba27bcb2"
  },
  {
   "cell_type": "code",
   "execution_count": 61,
   "outputs": [
    {
     "data": {
      "text/plain": "<Figure size 1000x600 with 1 Axes>",
      "image/png": "[encoded data removed]"
     },
     "metadata": {},
     "output_type": "display_data"
    }
   ],
   "source": [
    "plt.figure(figsize=(10,6))\n",
    "for model_name, recall in recall_dict.items():\n",
    "    plt.plot(list(recall.keys()), list(recall.values()), label=model_name)\n",
    "plt.xlabel(\"k\")\n",
    "plt.ylabel(\"Recall@k\")\n",
    "plt.title(\"Recall@k for Different ViT Models\")\n",
    "plt.legend()\n",
    "plt.grid(True)\n",
    "plt.tight_layout()\n",
    "plt.show()\n"
   ],
   "metadata": {
    "collapsed": false,
    "ExecuteTime": {
     "end_time": "2025-03-26T13:56:34.883940100Z",
     "start_time": "2025-03-26T13:56:34.423337100Z"
    }
   },
   "id": "149b53c01122ce2"
  },
  {
   "cell_type": "code",
   "execution_count": 32,
   "outputs": [
    {
     "data": {
      "text/plain": "[<matplotlib.lines.Line2D at 0x15ce5d84f10>]"
     },
     "execution_count": 32,
     "metadata": {},
     "output_type": "execute_result"
    },
    {
     "data": {
      "text/plain": "<Figure size 640x480 with 1 Axes>",
      "image/png": "[encoded data removed]"
     },
     "metadata": {},
     "output_type": "display_data"
    }
   ],
   "source": [
    "plt.plot(list(recall_dict.keys()), list(recall_dict.values()))"
   ],
   "metadata": {
    "collapsed": false,
    "ExecuteTime": {
     "end_time": "2025-03-26T12:13:41.140671200Z",
     "start_time": "2025-03-26T12:13:41.035650900Z"
    }
   },
   "id": "af4f0d75f6225345"
  },
  {
   "cell_type": "code",
   "execution_count": null,
   "outputs": [],
   "source": [],
   "metadata": {
    "collapsed": false
   },
   "id": "c286ed553b2eea6f"
  },
  {
   "cell_type": "markdown",
   "source": [
    "# With contrastive loss"
   ],
   "metadata": {
    "collapsed": false
   },
   "id": "950c8b3d0c5ac6b2"
  },
  {
   "cell_type": "code",
   "execution_count": 6,
   "outputs": [],
   "source": [
    "training_pairs = dataset_partition_dict['train']['small'][2]"
   ],
   "metadata": {
    "collapsed": false,
    "ExecuteTime": {
     "end_time": "2025-03-27T09:44:31.839707500Z",
     "start_time": "2025-03-27T09:44:31.789119900Z"
    }
   },
   "id": "2a1f73114d0c0ee2"
  },
  {
   "cell_type": "code",
   "execution_count": 7,
   "outputs": [
    {
     "name": "stdout",
     "output_type": "stream",
     "text": [
      "Number of pairs: 6606\n",
      "Number of matching pairs: 2202\n",
      "Number of non-matching pairs: 4404\n"
     ]
    }
   ],
   "source": [
    "print(f\"Number of pairs: {len(training_pairs)}\")\n",
    "print(f\"Number of matching pairs: {len([pair for pair in training_pairs if pair[0] == pair[1]])}\")\n",
    "print(f\"Number of non-matching pairs: {len([pair for pair in training_pairs if pair[0] != pair[1]])}\")"
   ],
   "metadata": {
    "collapsed": false,
    "ExecuteTime": {
     "end_time": "2025-03-27T09:44:33.065178100Z",
     "start_time": "2025-03-27T09:44:33.046056700Z"
    }
   },
   "id": "f1b1776d6cd8bc72"
  },
  {
   "cell_type": "code",
   "execution_count": null,
   "outputs": [],
   "source": [],
   "metadata": {
    "collapsed": false
   },
   "id": "ddb780b953c99aa2"
  },
  {
   "cell_type": "code",
   "execution_count": 8,
   "outputs": [],
   "source": [
    "# 1. Dataset for (img1, img2, label) pairs\n",
    "class ContrastivePairDataset(Dataset):\n",
    "    def __init__(self, training_pairs, transform):\n",
    "        self.pairs = training_pairs\n",
    "        self.transform = transform\n",
    "\n",
    "    def __len__(self):\n",
    "        return len(self.pairs)\n",
    "\n",
    "    def __getitem__(self, idx):\n",
    "        cand_path, index_path = self.pairs[idx]\n",
    "        cand_id = os.path.splitext(os.path.basename(cand_path))[0]\n",
    "        index_id = os.path.splitext(os.path.basename(index_path))[0]\n",
    "        label = 1 if cand_id == index_id else -1  # CosineEmbeddingLoss expects ±1\n",
    "        cand_img = self.transform(Image.open(cand_path).convert(\"RGB\"))\n",
    "        index_img = self.transform(Image.open(index_path).convert(\"RGB\"))\n",
    "        return cand_img, index_img, torch.tensor(label, dtype=torch.float32)"
   ],
   "metadata": {
    "collapsed": false,
    "ExecuteTime": {
     "end_time": "2025-03-27T09:44:36.515952700Z",
     "start_time": "2025-03-27T09:44:36.489075700Z"
    }
   },
   "id": "3cecdf88eb4035d3"
  },
  {
   "cell_type": "code",
   "execution_count": 9,
   "outputs": [],
   "source": [
    "model_name = \"ViT-B/32\" # options are: \"ViT-B/32\" and \"ViT-L/14\"\n",
    "model, preprocess = clip.load(model_name, device=device)\n",
    "vision_encoder = model.visual"
   ],
   "metadata": {
    "collapsed": false,
    "ExecuteTime": {
     "end_time": "2025-03-27T09:44:42.284392200Z",
     "start_time": "2025-03-27T09:44:37.514180700Z"
    }
   },
   "id": "680d764f4704e8cd"
  },
  {
   "cell_type": "code",
   "execution_count": 23,
   "outputs": [],
   "source": [
    "\n",
    "class ContrastiveModel(nn.Module):\n",
    "    def __init__(self, encoder):\n",
    "        super().__init__()\n",
    "        self.encoder = encoder\n",
    "\n",
    "    def forward(self, img1, img2):\n",
    "        emb1 = self.encoder(img1)\n",
    "        emb2 = self.encoder(img2)\n",
    "        return emb1, emb2"
   ],
   "metadata": {
    "collapsed": false,
    "ExecuteTime": {
     "end_time": "2025-03-27T09:46:05.736622200Z",
     "start_time": "2025-03-27T09:46:05.710214900Z"
    }
   },
   "id": "7a30e0b2ca5cf285"
  },
  {
   "cell_type": "code",
   "execution_count": 24,
   "outputs": [],
   "source": [
    "contrastive_model = ContrastiveModel(vision_encoder).to(device).float()\n",
    "loss_fn = nn.CosineEmbeddingLoss()\n",
    "optimizer = torch.optim.AdamW(contrastive_model.parameters(), lr=1e-5)"
   ],
   "metadata": {
    "collapsed": false,
    "ExecuteTime": {
     "end_time": "2025-03-27T09:46:06.013686200Z",
     "start_time": "2025-03-27T09:46:05.989988700Z"
    }
   },
   "id": "80f7807e1fe332a6"
  },
  {
   "cell_type": "code",
   "execution_count": 24,
   "outputs": [],
   "source": [],
   "metadata": {
    "collapsed": false,
    "ExecuteTime": {
     "end_time": "2025-03-27T09:46:06.525611800Z",
     "start_time": "2025-03-27T09:46:06.499536400Z"
    }
   },
   "id": "37e3464767bd6a1f"
  },
  {
   "cell_type": "code",
   "execution_count": 25,
   "outputs": [],
   "source": [
    "def get_training_pairs_paths(training_pairs):\n",
    "    training_pair_paths = []\n",
    "    for pair in training_pairs:\n",
    "        training_pair_paths.append((''.join((figs_source_a, f\"/{pair[0]}.png\")), \n",
    "                                    ''.join((figs_source_b, f\"/{pair[1]}.png\"))))\n",
    "    return training_pair_paths"
   ],
   "metadata": {
    "collapsed": false,
    "ExecuteTime": {
     "end_time": "2025-03-27T09:46:07.022775800Z",
     "start_time": "2025-03-27T09:46:07.002357Z"
    }
   },
   "id": "ab1c6003699d27f8"
  },
  {
   "cell_type": "code",
   "execution_count": 26,
   "outputs": [],
   "source": [
    "def get_clip_embedding(model, image_path):\n",
    "    image = preprocess(Image.open(image_path)).unsqueeze(0).to(device)\n",
    "    with torch.no_grad():\n",
    "        embedding = model.encode_image(image).float()\n",
    "    return embedding.cpu().numpy()\n",
    "\n",
    "def get_all_source_embds(figs_dir, rel_ids, model):\n",
    "    embds = []\n",
    "    fig_names = os.listdir(figs_dir)\n",
    "    figs_to_embed = [fig_name for fig_name in fig_names if fig_name.split('.')[0] in rel_ids]\n",
    "    mapping_dict = {}\n",
    "    for ind, fig_name in enumerate(tqdm.tqdm(figs_to_embed)):\n",
    "        embds.append(get_clip_embedding(model, ''.join([figs_dir, '/', fig_name])))\n",
    "        mapping_dict[ind] = fig_name.split('.')[0]\n",
    "    embds = np.array(embds, dtype=np.float32)\n",
    "    return np.squeeze(embds, axis=1), mapping_dict"
   ],
   "metadata": {
    "collapsed": false,
    "ExecuteTime": {
     "end_time": "2025-03-27T09:46:08.095443700Z",
     "start_time": "2025-03-27T09:46:08.072541100Z"
    }
   },
   "id": "f8ca335cc9f7a994"
  },
  {
   "cell_type": "code",
   "execution_count": 27,
   "outputs": [],
   "source": [
    "training_pair_paths = get_training_pairs_paths(training_pairs)"
   ],
   "metadata": {
    "collapsed": false,
    "ExecuteTime": {
     "end_time": "2025-03-27T09:46:08.632449Z",
     "start_time": "2025-03-27T09:46:08.614286800Z"
    }
   },
   "id": "26ebb3b5394d58f"
  },
  {
   "cell_type": "code",
   "execution_count": 28,
   "outputs": [],
   "source": [
    "dataset = ContrastivePairDataset(training_pair_paths, transform=preprocess)\n",
    "dataloader = DataLoader(dataset, batch_size=4, shuffle=True)"
   ],
   "metadata": {
    "collapsed": false,
    "ExecuteTime": {
     "end_time": "2025-03-27T09:46:08.960364100Z",
     "start_time": "2025-03-27T09:46:08.927452300Z"
    }
   },
   "id": "ab4a2124655e3820"
  },
  {
   "cell_type": "code",
   "execution_count": 98,
   "outputs": [
    {
     "name": "stderr",
     "output_type": "stream",
     "text": [
      " 12%|█▏        | 197/1652 [00:27<03:21,  7.23it/s]\n"
     ]
    },
    {
     "ename": "KeyboardInterrupt",
     "evalue": "",
     "output_type": "error",
     "traceback": [
      "\u001B[1;31m---------------------------------------------------------------------------\u001B[0m",
      "\u001B[1;31mKeyboardInterrupt\u001B[0m                         Traceback (most recent call last)",
      "Cell \u001B[1;32mIn[98], line 5\u001B[0m\n\u001B[0;32m      3\u001B[0m \u001B[38;5;28;01mfor\u001B[39;00m epoch \u001B[38;5;129;01min\u001B[39;00m \u001B[38;5;28mrange\u001B[39m(epochs):\n\u001B[0;32m      4\u001B[0m     total_loss \u001B[38;5;241m=\u001B[39m \u001B[38;5;241m0\u001B[39m\n\u001B[1;32m----> 5\u001B[0m     \u001B[38;5;28;01mfor\u001B[39;00m img1, img2, label \u001B[38;5;129;01min\u001B[39;00m tqdm\u001B[38;5;241m.\u001B[39mtqdm(dataloader):\n\u001B[0;32m      6\u001B[0m         img1, img2, label \u001B[38;5;241m=\u001B[39m img1\u001B[38;5;241m.\u001B[39mto(device), img2\u001B[38;5;241m.\u001B[39mto(device), label\u001B[38;5;241m.\u001B[39mto(device)\n\u001B[0;32m      7\u001B[0m         emb1, emb2 \u001B[38;5;241m=\u001B[39m contrastive_model(img1, img2)\n",
      "File \u001B[1;32m~\\anaconda3\\envs\\Bar_env\\Lib\\site-packages\\tqdm\\std.py:1181\u001B[0m, in \u001B[0;36mtqdm.__iter__\u001B[1;34m(self)\u001B[0m\n\u001B[0;32m   1178\u001B[0m time \u001B[38;5;241m=\u001B[39m \u001B[38;5;28mself\u001B[39m\u001B[38;5;241m.\u001B[39m_time\n\u001B[0;32m   1180\u001B[0m \u001B[38;5;28;01mtry\u001B[39;00m:\n\u001B[1;32m-> 1181\u001B[0m     \u001B[38;5;28;01mfor\u001B[39;00m obj \u001B[38;5;129;01min\u001B[39;00m iterable:\n\u001B[0;32m   1182\u001B[0m         \u001B[38;5;28;01myield\u001B[39;00m obj\n\u001B[0;32m   1183\u001B[0m         \u001B[38;5;66;03m# Update and possibly print the progressbar.\u001B[39;00m\n\u001B[0;32m   1184\u001B[0m         \u001B[38;5;66;03m# Note: does not call self.update(1) for speed optimisation.\u001B[39;00m\n",
      "File \u001B[1;32m~\\anaconda3\\envs\\Bar_env\\Lib\\site-packages\\torch\\utils\\data\\dataloader.py:630\u001B[0m, in \u001B[0;36m_BaseDataLoaderIter.__next__\u001B[1;34m(self)\u001B[0m\n\u001B[0;32m    627\u001B[0m \u001B[38;5;28;01mif\u001B[39;00m \u001B[38;5;28mself\u001B[39m\u001B[38;5;241m.\u001B[39m_sampler_iter \u001B[38;5;129;01mis\u001B[39;00m \u001B[38;5;28;01mNone\u001B[39;00m:\n\u001B[0;32m    628\u001B[0m     \u001B[38;5;66;03m# TODO(https://github.com/pytorch/pytorch/issues/76750)\u001B[39;00m\n\u001B[0;32m    629\u001B[0m     \u001B[38;5;28mself\u001B[39m\u001B[38;5;241m.\u001B[39m_reset()  \u001B[38;5;66;03m# type: ignore[call-arg]\u001B[39;00m\n\u001B[1;32m--> 630\u001B[0m data \u001B[38;5;241m=\u001B[39m \u001B[38;5;28mself\u001B[39m\u001B[38;5;241m.\u001B[39m_next_data()\n\u001B[0;32m    631\u001B[0m \u001B[38;5;28mself\u001B[39m\u001B[38;5;241m.\u001B[39m_num_yielded \u001B[38;5;241m+\u001B[39m\u001B[38;5;241m=\u001B[39m \u001B[38;5;241m1\u001B[39m\n\u001B[0;32m    632\u001B[0m \u001B[38;5;28;01mif\u001B[39;00m \u001B[38;5;28mself\u001B[39m\u001B[38;5;241m.\u001B[39m_dataset_kind \u001B[38;5;241m==\u001B[39m _DatasetKind\u001B[38;5;241m.\u001B[39mIterable \u001B[38;5;129;01mand\u001B[39;00m \\\n\u001B[0;32m    633\u001B[0m         \u001B[38;5;28mself\u001B[39m\u001B[38;5;241m.\u001B[39m_IterableDataset_len_called \u001B[38;5;129;01mis\u001B[39;00m \u001B[38;5;129;01mnot\u001B[39;00m \u001B[38;5;28;01mNone\u001B[39;00m \u001B[38;5;129;01mand\u001B[39;00m \\\n\u001B[0;32m    634\u001B[0m         \u001B[38;5;28mself\u001B[39m\u001B[38;5;241m.\u001B[39m_num_yielded \u001B[38;5;241m>\u001B[39m \u001B[38;5;28mself\u001B[39m\u001B[38;5;241m.\u001B[39m_IterableDataset_len_called:\n",
      "File \u001B[1;32m~\\anaconda3\\envs\\Bar_env\\Lib\\site-packages\\torch\\utils\\data\\dataloader.py:674\u001B[0m, in \u001B[0;36m_SingleProcessDataLoaderIter._next_data\u001B[1;34m(self)\u001B[0m\n\u001B[0;32m    672\u001B[0m \u001B[38;5;28;01mdef\u001B[39;00m \u001B[38;5;21m_next_data\u001B[39m(\u001B[38;5;28mself\u001B[39m):\n\u001B[0;32m    673\u001B[0m     index \u001B[38;5;241m=\u001B[39m \u001B[38;5;28mself\u001B[39m\u001B[38;5;241m.\u001B[39m_next_index()  \u001B[38;5;66;03m# may raise StopIteration\u001B[39;00m\n\u001B[1;32m--> 674\u001B[0m     data \u001B[38;5;241m=\u001B[39m \u001B[38;5;28mself\u001B[39m\u001B[38;5;241m.\u001B[39m_dataset_fetcher\u001B[38;5;241m.\u001B[39mfetch(index)  \u001B[38;5;66;03m# may raise StopIteration\u001B[39;00m\n\u001B[0;32m    675\u001B[0m     \u001B[38;5;28;01mif\u001B[39;00m \u001B[38;5;28mself\u001B[39m\u001B[38;5;241m.\u001B[39m_pin_memory:\n\u001B[0;32m    676\u001B[0m         data \u001B[38;5;241m=\u001B[39m _utils\u001B[38;5;241m.\u001B[39mpin_memory\u001B[38;5;241m.\u001B[39mpin_memory(data, \u001B[38;5;28mself\u001B[39m\u001B[38;5;241m.\u001B[39m_pin_memory_device)\n",
      "File \u001B[1;32m~\\anaconda3\\envs\\Bar_env\\Lib\\site-packages\\torch\\utils\\data\\_utils\\fetch.py:51\u001B[0m, in \u001B[0;36m_MapDatasetFetcher.fetch\u001B[1;34m(self, possibly_batched_index)\u001B[0m\n\u001B[0;32m     49\u001B[0m         data \u001B[38;5;241m=\u001B[39m \u001B[38;5;28mself\u001B[39m\u001B[38;5;241m.\u001B[39mdataset\u001B[38;5;241m.\u001B[39m__getitems__(possibly_batched_index)\n\u001B[0;32m     50\u001B[0m     \u001B[38;5;28;01melse\u001B[39;00m:\n\u001B[1;32m---> 51\u001B[0m         data \u001B[38;5;241m=\u001B[39m [\u001B[38;5;28mself\u001B[39m\u001B[38;5;241m.\u001B[39mdataset[idx] \u001B[38;5;28;01mfor\u001B[39;00m idx \u001B[38;5;129;01min\u001B[39;00m possibly_batched_index]\n\u001B[0;32m     52\u001B[0m \u001B[38;5;28;01melse\u001B[39;00m:\n\u001B[0;32m     53\u001B[0m     data \u001B[38;5;241m=\u001B[39m \u001B[38;5;28mself\u001B[39m\u001B[38;5;241m.\u001B[39mdataset[possibly_batched_index]\n",
      "File \u001B[1;32m~\\anaconda3\\envs\\Bar_env\\Lib\\site-packages\\torch\\utils\\data\\_utils\\fetch.py:51\u001B[0m, in \u001B[0;36m<listcomp>\u001B[1;34m(.0)\u001B[0m\n\u001B[0;32m     49\u001B[0m         data \u001B[38;5;241m=\u001B[39m \u001B[38;5;28mself\u001B[39m\u001B[38;5;241m.\u001B[39mdataset\u001B[38;5;241m.\u001B[39m__getitems__(possibly_batched_index)\n\u001B[0;32m     50\u001B[0m     \u001B[38;5;28;01melse\u001B[39;00m:\n\u001B[1;32m---> 51\u001B[0m         data \u001B[38;5;241m=\u001B[39m [\u001B[38;5;28mself\u001B[39m\u001B[38;5;241m.\u001B[39mdataset[idx] \u001B[38;5;28;01mfor\u001B[39;00m idx \u001B[38;5;129;01min\u001B[39;00m possibly_batched_index]\n\u001B[0;32m     52\u001B[0m \u001B[38;5;28;01melse\u001B[39;00m:\n\u001B[0;32m     53\u001B[0m     data \u001B[38;5;241m=\u001B[39m \u001B[38;5;28mself\u001B[39m\u001B[38;5;241m.\u001B[39mdataset[possibly_batched_index]\n",
      "Cell \u001B[1;32mIn[71], line 15\u001B[0m, in \u001B[0;36mContrastivePairDataset.__getitem__\u001B[1;34m(self, idx)\u001B[0m\n\u001B[0;32m     13\u001B[0m index_id \u001B[38;5;241m=\u001B[39m os\u001B[38;5;241m.\u001B[39mpath\u001B[38;5;241m.\u001B[39msplitext(os\u001B[38;5;241m.\u001B[39mpath\u001B[38;5;241m.\u001B[39mbasename(index_path))[\u001B[38;5;241m0\u001B[39m]\n\u001B[0;32m     14\u001B[0m label \u001B[38;5;241m=\u001B[39m \u001B[38;5;241m1\u001B[39m \u001B[38;5;28;01mif\u001B[39;00m cand_id \u001B[38;5;241m==\u001B[39m index_id \u001B[38;5;28;01melse\u001B[39;00m \u001B[38;5;241m-\u001B[39m\u001B[38;5;241m1\u001B[39m  \u001B[38;5;66;03m# CosineEmbeddingLoss expects ±1\u001B[39;00m\n\u001B[1;32m---> 15\u001B[0m cand_img \u001B[38;5;241m=\u001B[39m \u001B[38;5;28mself\u001B[39m\u001B[38;5;241m.\u001B[39mtransform(Image\u001B[38;5;241m.\u001B[39mopen(cand_path)\u001B[38;5;241m.\u001B[39mconvert(\u001B[38;5;124m\"\u001B[39m\u001B[38;5;124mRGB\u001B[39m\u001B[38;5;124m\"\u001B[39m))\n\u001B[0;32m     16\u001B[0m index_img \u001B[38;5;241m=\u001B[39m \u001B[38;5;28mself\u001B[39m\u001B[38;5;241m.\u001B[39mtransform(Image\u001B[38;5;241m.\u001B[39mopen(index_path)\u001B[38;5;241m.\u001B[39mconvert(\u001B[38;5;124m\"\u001B[39m\u001B[38;5;124mRGB\u001B[39m\u001B[38;5;124m\"\u001B[39m))\n\u001B[0;32m     17\u001B[0m \u001B[38;5;28;01mreturn\u001B[39;00m cand_img, index_img, torch\u001B[38;5;241m.\u001B[39mtensor(label, dtype\u001B[38;5;241m=\u001B[39mtorch\u001B[38;5;241m.\u001B[39mfloat32)\n",
      "File \u001B[1;32m~\\anaconda3\\envs\\Bar_env\\Lib\\site-packages\\PIL\\Image.py:911\u001B[0m, in \u001B[0;36mImage.convert\u001B[1;34m(self, mode, matrix, dither, palette, colors)\u001B[0m\n\u001B[0;32m    863\u001B[0m \u001B[38;5;28;01mdef\u001B[39;00m \u001B[38;5;21mconvert\u001B[39m(\n\u001B[0;32m    864\u001B[0m     \u001B[38;5;28mself\u001B[39m, mode\u001B[38;5;241m=\u001B[39m\u001B[38;5;28;01mNone\u001B[39;00m, matrix\u001B[38;5;241m=\u001B[39m\u001B[38;5;28;01mNone\u001B[39;00m, dither\u001B[38;5;241m=\u001B[39m\u001B[38;5;28;01mNone\u001B[39;00m, palette\u001B[38;5;241m=\u001B[39mPalette\u001B[38;5;241m.\u001B[39mWEB, colors\u001B[38;5;241m=\u001B[39m\u001B[38;5;241m256\u001B[39m\n\u001B[0;32m    865\u001B[0m ):\n\u001B[0;32m    866\u001B[0m \u001B[38;5;250m    \u001B[39m\u001B[38;5;124;03m\"\"\"\u001B[39;00m\n\u001B[0;32m    867\u001B[0m \u001B[38;5;124;03m    Returns a converted copy of this image. For the \"P\" mode, this\u001B[39;00m\n\u001B[0;32m    868\u001B[0m \u001B[38;5;124;03m    method translates pixels through the palette.  If mode is\u001B[39;00m\n\u001B[1;32m   (...)\u001B[0m\n\u001B[0;32m    908\u001B[0m \u001B[38;5;124;03m    :returns: An :py:class:`~PIL.Image.Image` object.\u001B[39;00m\n\u001B[0;32m    909\u001B[0m \u001B[38;5;124;03m    \"\"\"\u001B[39;00m\n\u001B[1;32m--> 911\u001B[0m     \u001B[38;5;28mself\u001B[39m\u001B[38;5;241m.\u001B[39mload()\n\u001B[0;32m    913\u001B[0m     has_transparency \u001B[38;5;241m=\u001B[39m \u001B[38;5;28mself\u001B[39m\u001B[38;5;241m.\u001B[39minfo\u001B[38;5;241m.\u001B[39mget(\u001B[38;5;124m\"\u001B[39m\u001B[38;5;124mtransparency\u001B[39m\u001B[38;5;124m\"\u001B[39m) \u001B[38;5;129;01mis\u001B[39;00m \u001B[38;5;129;01mnot\u001B[39;00m \u001B[38;5;28;01mNone\u001B[39;00m\n\u001B[0;32m    914\u001B[0m     \u001B[38;5;28;01mif\u001B[39;00m \u001B[38;5;129;01mnot\u001B[39;00m mode \u001B[38;5;129;01mand\u001B[39;00m \u001B[38;5;28mself\u001B[39m\u001B[38;5;241m.\u001B[39mmode \u001B[38;5;241m==\u001B[39m \u001B[38;5;124m\"\u001B[39m\u001B[38;5;124mP\u001B[39m\u001B[38;5;124m\"\u001B[39m:\n\u001B[0;32m    915\u001B[0m         \u001B[38;5;66;03m# determine default mode\u001B[39;00m\n",
      "File \u001B[1;32m~\\anaconda3\\envs\\Bar_env\\Lib\\site-packages\\PIL\\ImageFile.py:269\u001B[0m, in \u001B[0;36mImageFile.load\u001B[1;34m(self)\u001B[0m\n\u001B[0;32m    266\u001B[0m         \u001B[38;5;28;01mraise\u001B[39;00m \u001B[38;5;167;01mOSError\u001B[39;00m(msg)\n\u001B[0;32m    268\u001B[0m b \u001B[38;5;241m=\u001B[39m b \u001B[38;5;241m+\u001B[39m s\n\u001B[1;32m--> 269\u001B[0m n, err_code \u001B[38;5;241m=\u001B[39m decoder\u001B[38;5;241m.\u001B[39mdecode(b)\n\u001B[0;32m    270\u001B[0m \u001B[38;5;28;01mif\u001B[39;00m n \u001B[38;5;241m<\u001B[39m \u001B[38;5;241m0\u001B[39m:\n\u001B[0;32m    271\u001B[0m     \u001B[38;5;28;01mbreak\u001B[39;00m\n",
      "\u001B[1;31mKeyboardInterrupt\u001B[0m: "
     ]
    }
   ],
   "source": [
    "epochs = 5\n",
    "contrastive_model.train()\n",
    "for epoch in range(epochs):\n",
    "    total_loss = 0\n",
    "    for img1, img2, label in tqdm.tqdm(dataloader):\n",
    "        img1, img2, label = img1.to(device), img2.to(device), label.to(device)\n",
    "        emb1, emb2 = contrastive_model(img1, img2)\n",
    "        loss = loss_fn(emb1, emb2, label)\n",
    "        optimizer.zero_grad()\n",
    "        loss.backward()\n",
    "        optimizer.step()\n",
    "        total_loss += loss.item()\n",
    "    print(f\"Epoch {epoch+1}/{epochs} - Loss: {total_loss:.4f}\")\n",
    "\n",
    "# 7. Save the encoder\n",
    "torch.save(contrastive_model.state_dict(), \"finetuned_vit_clip.pth\")\n"
   ],
   "metadata": {
    "collapsed": false,
    "ExecuteTime": {
     "end_time": "2025-03-26T15:04:57.349709900Z",
     "start_time": "2025-03-26T15:04:29.726890100Z"
    }
   },
   "id": "48245a63c69d90e2"
  },
  {
   "cell_type": "code",
   "execution_count": null,
   "outputs": [],
   "source": [],
   "metadata": {
    "collapsed": false
   },
   "id": "7a6a8d5382b31b15"
  },
  {
   "cell_type": "markdown",
   "source": [
    "# Use fine-tuned model"
   ],
   "metadata": {
    "collapsed": false
   },
   "id": "1ae22b6e19a142c4"
  },
  {
   "cell_type": "code",
   "execution_count": 29,
   "outputs": [],
   "source": [
    "# Wrap it in your ContrastiveModel class\n",
    "class ContrastiveModelEncoder(torch.nn.Module):\n",
    "    def __init__(self, encoder):\n",
    "        super().__init__()\n",
    "        self.encoder = encoder\n",
    "\n",
    "    def forward(self, x):\n",
    "        return self.encoder(x)"
   ],
   "metadata": {
    "collapsed": false,
    "ExecuteTime": {
     "end_time": "2025-03-27T09:46:13.778298500Z",
     "start_time": "2025-03-27T09:46:13.747946500Z"
    }
   },
   "id": "bac34b03ee475140"
  },
  {
   "cell_type": "code",
   "execution_count": 30,
   "outputs": [],
   "source": [
    "clip_model, preprocess = clip.load(model_name, device=device)\n",
    "vision_encoder = clip_model.visual"
   ],
   "metadata": {
    "collapsed": false,
    "ExecuteTime": {
     "end_time": "2025-03-27T09:46:18.222443700Z",
     "start_time": "2025-03-27T09:46:14.002219200Z"
    }
   },
   "id": "e0702ffdee142272"
  },
  {
   "cell_type": "code",
   "execution_count": 31,
   "outputs": [
    {
     "data": {
      "text/plain": "ContrastiveModelEncoder(\n  (encoder): VisionTransformer(\n    (conv1): Conv2d(3, 768, kernel_size=(32, 32), stride=(32, 32), bias=False)\n    (ln_pre): LayerNorm((768,), eps=1e-05, elementwise_affine=True)\n    (transformer): Transformer(\n      (resblocks): Sequential(\n        (0): ResidualAttentionBlock(\n          (attn): MultiheadAttention(\n            (out_proj): NonDynamicallyQuantizableLinear(in_features=768, out_features=768, bias=True)\n          )\n          (ln_1): LayerNorm((768,), eps=1e-05, elementwise_affine=True)\n          (mlp): Sequential(\n            (c_fc): Linear(in_features=768, out_features=3072, bias=True)\n            (gelu): QuickGELU()\n            (c_proj): Linear(in_features=3072, out_features=768, bias=True)\n          )\n          (ln_2): LayerNorm((768,), eps=1e-05, elementwise_affine=True)\n        )\n        (1): ResidualAttentionBlock(\n          (attn): MultiheadAttention(\n            (out_proj): NonDynamicallyQuantizableLinear(in_features=768, out_features=768, bias=True)\n          )\n          (ln_1): LayerNorm((768,), eps=1e-05, elementwise_affine=True)\n          (mlp): Sequential(\n            (c_fc): Linear(in_features=768, out_features=3072, bias=True)\n            (gelu): QuickGELU()\n            (c_proj): Linear(in_features=3072, out_features=768, bias=True)\n          )\n          (ln_2): LayerNorm((768,), eps=1e-05, elementwise_affine=True)\n        )\n        (2): ResidualAttentionBlock(\n          (attn): MultiheadAttention(\n            (out_proj): NonDynamicallyQuantizableLinear(in_features=768, out_features=768, bias=True)\n          )\n          (ln_1): LayerNorm((768,), eps=1e-05, elementwise_affine=True)\n          (mlp): Sequential(\n            (c_fc): Linear(in_features=768, out_features=3072, bias=True)\n            (gelu): QuickGELU()\n            (c_proj): Linear(in_features=3072, out_features=768, bias=True)\n          )\n          (ln_2): LayerNorm((768,), eps=1e-05, elementwise_affine=True)\n        )\n        (3): ResidualAttentionBlock(\n          (attn): MultiheadAttention(\n            (out_proj): NonDynamicallyQuantizableLinear(in_features=768, out_features=768, bias=True)\n          )\n          (ln_1): LayerNorm((768,), eps=1e-05, elementwise_affine=True)\n          (mlp): Sequential(\n            (c_fc): Linear(in_features=768, out_features=3072, bias=True)\n            (gelu): QuickGELU()\n            (c_proj): Linear(in_features=3072, out_features=768, bias=True)\n          )\n          (ln_2): LayerNorm((768,), eps=1e-05, elementwise_affine=True)\n        )\n        (4): ResidualAttentionBlock(\n          (attn): MultiheadAttention(\n            (out_proj): NonDynamicallyQuantizableLinear(in_features=768, out_features=768, bias=True)\n          )\n          (ln_1): LayerNorm((768,), eps=1e-05, elementwise_affine=True)\n          (mlp): Sequential(\n            (c_fc): Linear(in_features=768, out_features=3072, bias=True)\n            (gelu): QuickGELU()\n            (c_proj): Linear(in_features=3072, out_features=768, bias=True)\n          )\n          (ln_2): LayerNorm((768,), eps=1e-05, elementwise_affine=True)\n        )\n        (5): ResidualAttentionBlock(\n          (attn): MultiheadAttention(\n            (out_proj): NonDynamicallyQuantizableLinear(in_features=768, out_features=768, bias=True)\n          )\n          (ln_1): LayerNorm((768,), eps=1e-05, elementwise_affine=True)\n          (mlp): Sequential(\n            (c_fc): Linear(in_features=768, out_features=3072, bias=True)\n            (gelu): QuickGELU()\n            (c_proj): Linear(in_features=3072, out_features=768, bias=True)\n          )\n          (ln_2): LayerNorm((768,), eps=1e-05, elementwise_affine=True)\n        )\n        (6): ResidualAttentionBlock(\n          (attn): MultiheadAttention(\n            (out_proj): NonDynamicallyQuantizableLinear(in_features=768, out_features=768, bias=True)\n          )\n          (ln_1): LayerNorm((768,), eps=1e-05, elementwise_affine=True)\n          (mlp): Sequential(\n            (c_fc): Linear(in_features=768, out_features=3072, bias=True)\n            (gelu): QuickGELU()\n            (c_proj): Linear(in_features=3072, out_features=768, bias=True)\n          )\n          (ln_2): LayerNorm((768,), eps=1e-05, elementwise_affine=True)\n        )\n        (7): ResidualAttentionBlock(\n          (attn): MultiheadAttention(\n            (out_proj): NonDynamicallyQuantizableLinear(in_features=768, out_features=768, bias=True)\n          )\n          (ln_1): LayerNorm((768,), eps=1e-05, elementwise_affine=True)\n          (mlp): Sequential(\n            (c_fc): Linear(in_features=768, out_features=3072, bias=True)\n            (gelu): QuickGELU()\n            (c_proj): Linear(in_features=3072, out_features=768, bias=True)\n          )\n          (ln_2): LayerNorm((768,), eps=1e-05, elementwise_affine=True)\n        )\n        (8): ResidualAttentionBlock(\n          (attn): MultiheadAttention(\n            (out_proj): NonDynamicallyQuantizableLinear(in_features=768, out_features=768, bias=True)\n          )\n          (ln_1): LayerNorm((768,), eps=1e-05, elementwise_affine=True)\n          (mlp): Sequential(\n            (c_fc): Linear(in_features=768, out_features=3072, bias=True)\n            (gelu): QuickGELU()\n            (c_proj): Linear(in_features=3072, out_features=768, bias=True)\n          )\n          (ln_2): LayerNorm((768,), eps=1e-05, elementwise_affine=True)\n        )\n        (9): ResidualAttentionBlock(\n          (attn): MultiheadAttention(\n            (out_proj): NonDynamicallyQuantizableLinear(in_features=768, out_features=768, bias=True)\n          )\n          (ln_1): LayerNorm((768,), eps=1e-05, elementwise_affine=True)\n          (mlp): Sequential(\n            (c_fc): Linear(in_features=768, out_features=3072, bias=True)\n            (gelu): QuickGELU()\n            (c_proj): Linear(in_features=3072, out_features=768, bias=True)\n          )\n          (ln_2): LayerNorm((768,), eps=1e-05, elementwise_affine=True)\n        )\n        (10): ResidualAttentionBlock(\n          (attn): MultiheadAttention(\n            (out_proj): NonDynamicallyQuantizableLinear(in_features=768, out_features=768, bias=True)\n          )\n          (ln_1): LayerNorm((768,), eps=1e-05, elementwise_affine=True)\n          (mlp): Sequential(\n            (c_fc): Linear(in_features=768, out_features=3072, bias=True)\n            (gelu): QuickGELU()\n            (c_proj): Linear(in_features=3072, out_features=768, bias=True)\n          )\n          (ln_2): LayerNorm((768,), eps=1e-05, elementwise_affine=True)\n        )\n        (11): ResidualAttentionBlock(\n          (attn): MultiheadAttention(\n            (out_proj): NonDynamicallyQuantizableLinear(in_features=768, out_features=768, bias=True)\n          )\n          (ln_1): LayerNorm((768,), eps=1e-05, elementwise_affine=True)\n          (mlp): Sequential(\n            (c_fc): Linear(in_features=768, out_features=3072, bias=True)\n            (gelu): QuickGELU()\n            (c_proj): Linear(in_features=3072, out_features=768, bias=True)\n          )\n          (ln_2): LayerNorm((768,), eps=1e-05, elementwise_affine=True)\n        )\n      )\n    )\n    (ln_post): LayerNorm((768,), eps=1e-05, elementwise_affine=True)\n  )\n)"
     },
     "execution_count": 31,
     "metadata": {},
     "output_type": "execute_result"
    }
   ],
   "source": [
    "model = ContrastiveModelEncoder(vision_encoder).to(device)\n",
    "model.load_state_dict(torch.load(\"finetuned_vit_clip.pth\", map_location=device))\n",
    "model.eval()"
   ],
   "metadata": {
    "collapsed": false,
    "ExecuteTime": {
     "end_time": "2025-03-27T09:46:18.758354700Z",
     "start_time": "2025-03-27T09:46:18.219937900Z"
    }
   },
   "id": "d50d8d35de90e3c2"
  },
  {
   "cell_type": "code",
   "execution_count": 32,
   "outputs": [],
   "source": [
    "@torch.no_grad()\n",
    "def get_embedding_finetuned(model, image_path):\n",
    "    image = preprocess(Image.open(image_path).convert(\"RGB\")).unsqueeze(0).to(device).half()\n",
    "    embedding = model(image)  # single-image forward\n",
    "    return embedding.cpu().numpy().astype(np.float32).squeeze()\n"
   ],
   "metadata": {
    "collapsed": false,
    "ExecuteTime": {
     "end_time": "2025-03-27T09:46:18.772196100Z",
     "start_time": "2025-03-27T09:46:18.762148300Z"
    }
   },
   "id": "18a667ac6b85d838"
  },
  {
   "cell_type": "code",
   "execution_count": 33,
   "outputs": [],
   "source": [
    "def get_all_source_finetuned_embds(figs_dir, rel_ids, model):\n",
    "    embds = []\n",
    "    fig_names = os.listdir(figs_dir)\n",
    "    figs_to_embed = [fig_name for fig_name in fig_names if fig_name.split('.')[0] in rel_ids]\n",
    "    mapping_dict = {}\n",
    "    for ind, fig_name in enumerate(tqdm.tqdm(figs_to_embed)):\n",
    "        embds.append(get_embedding_finetuned(model, ''.join([figs_dir, '/', fig_name])))\n",
    "        mapping_dict[ind] = fig_name.split('.')[0]\n",
    "    embds = np.array(embds, dtype=np.float32)\n",
    "    return embds, mapping_dict"
   ],
   "metadata": {
    "collapsed": false,
    "ExecuteTime": {
     "end_time": "2025-03-27T09:46:18.774208100Z",
     "start_time": "2025-03-27T09:46:18.770661700Z"
    }
   },
   "id": "af9829f8963865d0"
  },
  {
   "cell_type": "code",
   "execution_count": 38,
   "outputs": [
    {
     "name": "stderr",
     "output_type": "stream",
     "text": [
      "100%|██████████| 1982/1982 [00:31<00:00, 63.06it/s]\n",
      "100%|██████████| 5143/5143 [01:26<00:00, 59.54it/s]\n"
     ]
    }
   ],
   "source": [
    "embds_dict = {}\n",
    "cands_embds, mapping_dict_cands = get_all_source_finetuned_embds(figs_source_a, cands_ids_test, model)\n",
    "index_embds, mapping_dict_index = get_all_source_finetuned_embds(figs_source_b, index_ids_test, model)\n",
    "embds_dict['cands'] = cands_embds\n",
    "embds_dict['index'] = index_embds\n",
    "# model_embds_dict['mapping_dict_cands'] = mapping_dict_cands\n",
    "# model_embds_dict['mapping_dict_index'] = mapping_dict_cands"
   ],
   "metadata": {
    "collapsed": false,
    "ExecuteTime": {
     "end_time": "2025-03-27T09:51:50.908057100Z",
     "start_time": "2025-03-27T09:49:52.929528700Z"
    }
   },
   "id": "4a670e082f18215a"
  },
  {
   "cell_type": "code",
   "execution_count": 40,
   "outputs": [],
   "source": [
    "k = 50\n",
    "retrieval_dict = {}\n",
    "index = faiss.IndexFlatL2(embds_dict['index'].shape[1])\n",
    "index.add(embds_dict['index'])\n",
    "for i, query in enumerate(embds_dict['cands']):\n",
    "    _, neighbors = index.search(query.reshape(1, -1), k)\n",
    "    retrieval_dict[mapping_dict_cands[i]] = [mapping_dict_index[ind] for ind in neighbors[0]]"
   ],
   "metadata": {
    "collapsed": false,
    "ExecuteTime": {
     "end_time": "2025-03-27T09:52:02.003206300Z",
     "start_time": "2025-03-27T09:52:00.578908400Z"
    }
   },
   "id": "98f07b5037bade25"
  },
  {
   "cell_type": "code",
   "execution_count": null,
   "outputs": [],
   "source": [],
   "metadata": {
    "collapsed": false
   },
   "id": "db9e20cdd60672fc"
  },
  {
   "cell_type": "code",
   "execution_count": 41,
   "outputs": [],
   "source": [
    "recall_dict = {}\n",
    "for k_local in range(1, k + 1):\n",
    "    recall_dict[k_local] = round(np.mean([1 if key in value[:k_local] else 0 for key, value in retrieval_dict.items()]), 6)"
   ],
   "metadata": {
    "collapsed": false,
    "ExecuteTime": {
     "end_time": "2025-03-27T09:52:05.072422500Z",
     "start_time": "2025-03-27T09:52:04.962139400Z"
    }
   },
   "id": "ae3e16850d9e4b25"
  },
  {
   "cell_type": "code",
   "execution_count": 43,
   "outputs": [
    {
     "data": {
      "text/plain": "<Figure size 1000x600 with 1 Axes>",
      "image/png": "[encoded data removed]"
     },
     "metadata": {},
     "output_type": "display_data"
    }
   ],
   "source": [
    "plt.figure(figsize=(10,6))\n",
    "plt.plot(list(recall_dict.keys()), list(recall_dict.values()), label=model_name)\n",
    "plt.xlabel(\"k\")\n",
    "plt.ylabel(\"Recall@k\")\n",
    "plt.title(\"Recall@k for Different ViT Models\")\n",
    "plt.legend()\n",
    "plt.grid(True)\n",
    "plt.tight_layout()\n",
    "plt.show()\n"
   ],
   "metadata": {
    "collapsed": false,
    "ExecuteTime": {
     "end_time": "2025-03-27T09:52:16.040680300Z",
     "start_time": "2025-03-27T09:52:15.582963100Z"
    }
   },
   "id": "8d2415f04e884d0"
  }
 ],
 "metadata": {
  "kernelspec": {
   "display_name": "Python 3",
   "language": "python",
   "name": "python3"
  },
  "language_info": {
   "codemirror_mode": {
    "name": "ipython",
    "version": 2
   },
   "file_extension": ".py",
   "mimetype": "text/x-python",
   "name": "python",
   "nbconvert_exporter": "python",
   "pygments_lexer": "ipython2",
   "version": "2.7.6"
  }
 },
 "nbformat": 4,
 "nbformat_minor": 5
}
